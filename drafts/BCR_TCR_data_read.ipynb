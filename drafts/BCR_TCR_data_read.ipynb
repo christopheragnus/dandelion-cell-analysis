{
 "cells": [
  {
   "cell_type": "code",
   "execution_count": 3,
   "id": "38ffb60c",
   "metadata": {
    "scrolled": true
   },
   "outputs": [
    {
     "name": "stderr",
     "output_type": "stream",
     "text": [
      "C:\\Users\\chris\\anaconda\\lib\\site-packages\\umap\\distances.py:1063: NumbaDeprecationWarning: \u001b[1mThe 'nopython' keyword argument was not supplied to the 'numba.jit' decorator. The implicit default value for this argument is currently False, but it will be changed to True in Numba 0.59.0. See https://numba.readthedocs.io/en/stable/reference/deprecation.html#deprecation-of-object-mode-fall-back-behaviour-when-using-jit for details.\u001b[0m\n",
      "  @numba.jit()\n",
      "C:\\Users\\chris\\anaconda\\lib\\site-packages\\umap\\distances.py:1071: NumbaDeprecationWarning: \u001b[1mThe 'nopython' keyword argument was not supplied to the 'numba.jit' decorator. The implicit default value for this argument is currently False, but it will be changed to True in Numba 0.59.0. See https://numba.readthedocs.io/en/stable/reference/deprecation.html#deprecation-of-object-mode-fall-back-behaviour-when-using-jit for details.\u001b[0m\n",
      "  @numba.jit()\n",
      "C:\\Users\\chris\\anaconda\\lib\\site-packages\\umap\\distances.py:1086: NumbaDeprecationWarning: \u001b[1mThe 'nopython' keyword argument was not supplied to the 'numba.jit' decorator. The implicit default value for this argument is currently False, but it will be changed to True in Numba 0.59.0. See https://numba.readthedocs.io/en/stable/reference/deprecation.html#deprecation-of-object-mode-fall-back-behaviour-when-using-jit for details.\u001b[0m\n",
      "  @numba.jit()\n",
      "C:\\Users\\chris\\anaconda\\lib\\site-packages\\umap\\umap_.py:660: NumbaDeprecationWarning: \u001b[1mThe 'nopython' keyword argument was not supplied to the 'numba.jit' decorator. The implicit default value for this argument is currently False, but it will be changed to True in Numba 0.59.0. See https://numba.readthedocs.io/en/stable/reference/deprecation.html#deprecation-of-object-mode-fall-back-behaviour-when-using-jit for details.\u001b[0m\n",
      "  @numba.jit()\n"
     ]
    },
    {
     "name": "stdout",
     "output_type": "stream",
     "text": [
      "scanpy==1.9.4 anndata==0.9.2 umap==0.5.3 numpy==1.24.4 scipy==1.10.0 pandas==1.5.3 scikit-learn==1.2.1 statsmodels==0.14.0 igraph==0.10.6 louvain==0.8.1 pynndescent==0.5.10\n"
     ]
    }
   ],
   "source": [
    "import os\n",
    "import scanpy as sc\n",
    "import pandas as pd\n",
    "import numpy as np\n",
    "from tqdm import tqdm\n",
    "#os.chdir('/lustre/scratch117/cellgen/team205/cs42/VDJ_collab_manuscript/')\n",
    "sc.logging.print_header()"
   ]
  },
  {
   "cell_type": "code",
   "execution_count": 2,
   "id": "62ae51d0",
   "metadata": {},
   "outputs": [
    {
     "name": "stdout",
     "output_type": "stream",
     "text": [
      "dandelion==0.3.2 pandas==1.5.3 numpy==1.24.4 matplotlib==3.7.0 networkx==2.8.4 scipy==1.10.0\n"
     ]
    }
   ],
   "source": [
    "import dandelion as ddl\n",
    "ddl.logging.print_header()"
   ]
  },
  {
   "cell_type": "code",
   "execution_count": 3,
   "id": "4277c245",
   "metadata": {},
   "outputs": [
    {
     "data": {
      "text/plain": [
       "AnnData object with n_obs × n_vars = 29818 × 1632\n",
       "    obs: 'n_counts', 'n_genes', 'file', 'mito', 'doublet_scores', 'predicted_doublets', 'old_annotation_uniform', 'organ', 'Sort_id', 'age', 'method', 'donor', 'sex', 'Sample', 'scvi_clusters', 'is_maternal_contaminant', 'anno_lvl_2_final_clean', 'celltype_annotation', 'filter_rna', 'has_contig', 'filter_contig_quality', 'filter_contig_VDJ', 'filter_contig_VJ', 'contig_QC_pass', 'filter_contig', 'clone_id', 'clone_id_by_size', 'sample_id', 'locus_VDJ', 'locus_VJ', 'productive_VDJ', 'productive_VJ', 'v_call_genotyped_VDJ', 'v_call_genotyped_VJ', 'd_call_VDJ', 'j_call_VDJ', 'j_call_VJ', 'c_call_VDJ', 'c_call_VJ', 'duplicate_count_VDJ', 'duplicate_count_VJ', 'duplicate_count_VDJ_1', 'duplicate_count_VJ_1', 'duplicate_count_VDJ_2', 'duplicate_count_VDJ_3', 'junction_aa_VDJ', 'junction_aa_VJ', 'locus_status', 'locus_status_summary', 'productive', 'productive_summary', 'isotype', 'isotype_summary', 'vdj_status', 'vdj_status_summary', 'constant_status_summary', 'mu_count_VDJ', 'mu_count_VJ', 'mu_freq_VDJ', 'mu_freq_VJ', 'mu_count', 'mu_freq', 'junction_length_VDJ', 'junction_length_VJ', 'junction_aa_length_VDJ', 'junction_aa_length_VJ', 'np1_length_VDJ', 'np1_length_VJ', 'np2_length_VDJ', 'clone_id_size', 'clone_id_size_max_3', 'n_genes_by_counts', 'total_counts', 'total_counts_mt', 'pct_counts_mt'\n",
       "    var: 'GeneID', 'GeneName', 'highly_variable', 'means', 'dispersions', 'dispersions_norm', 'scvi_model_var', 'mt', 'n_cells_by_counts', 'mean_counts', 'pct_dropout_by_counts', 'total_counts', 'mean', 'std'\n",
       "    uns: 'dendrogram_scvi_clusters', 'hvg', 'locus_status_summary_colors', 'log1p', 'pca', 'scvi'\n",
       "    obsm: 'X_pca', 'X_scvi', 'X_umap'\n",
       "    varm: 'PCs'\n",
       "    obsp: 'scvi_connectivities', 'scvi_distances'"
      ]
     },
     "execution_count": 3,
     "metadata": {},
     "output_type": "execute_result"
    }
   ],
   "source": [
    "# read the adata in\n",
    "\n",
    "adata = sc.read_h5ad(os.getcwd() + \"/write/GEX_results.h5ad\") # gene expression results\n",
    "adata"
   ]
  },
  {
   "cell_type": "code",
   "execution_count": 4,
   "id": "52914df7",
   "metadata": {},
   "outputs": [
    {
     "data": {
      "text/html": [
       "<div>\n",
       "<style scoped>\n",
       "    .dataframe tbody tr th:only-of-type {\n",
       "        vertical-align: middle;\n",
       "    }\n",
       "\n",
       "    .dataframe tbody tr th {\n",
       "        vertical-align: top;\n",
       "    }\n",
       "\n",
       "    .dataframe thead th {\n",
       "        text-align: right;\n",
       "    }\n",
       "</style>\n",
       "<table border=\"1\" class=\"dataframe\">\n",
       "  <thead>\n",
       "    <tr style=\"text-align: right;\">\n",
       "      <th></th>\n",
       "      <th>n_counts</th>\n",
       "      <th>n_genes</th>\n",
       "      <th>file</th>\n",
       "      <th>mito</th>\n",
       "      <th>doublet_scores</th>\n",
       "      <th>predicted_doublets</th>\n",
       "      <th>old_annotation_uniform</th>\n",
       "      <th>organ</th>\n",
       "      <th>Sort_id</th>\n",
       "      <th>age</th>\n",
       "      <th>...</th>\n",
       "      <th>junction_aa_length_VJ</th>\n",
       "      <th>np1_length_VDJ</th>\n",
       "      <th>np1_length_VJ</th>\n",
       "      <th>np2_length_VDJ</th>\n",
       "      <th>clone_id_size</th>\n",
       "      <th>clone_id_size_max_3</th>\n",
       "      <th>n_genes_by_counts</th>\n",
       "      <th>total_counts</th>\n",
       "      <th>total_counts_mt</th>\n",
       "      <th>pct_counts_mt</th>\n",
       "    </tr>\n",
       "    <tr>\n",
       "      <th>index</th>\n",
       "      <th></th>\n",
       "      <th></th>\n",
       "      <th></th>\n",
       "      <th></th>\n",
       "      <th></th>\n",
       "      <th></th>\n",
       "      <th></th>\n",
       "      <th></th>\n",
       "      <th></th>\n",
       "      <th></th>\n",
       "      <th></th>\n",
       "      <th></th>\n",
       "      <th></th>\n",
       "      <th></th>\n",
       "      <th></th>\n",
       "      <th></th>\n",
       "      <th></th>\n",
       "      <th></th>\n",
       "      <th></th>\n",
       "      <th></th>\n",
       "      <th></th>\n",
       "    </tr>\n",
       "  </thead>\n",
       "  <tbody>\n",
       "    <tr>\n",
       "      <th>Human_colon_16S8159187-AGCTCTCAGTGTACTC</th>\n",
       "      <td>12236.0</td>\n",
       "      <td>2627</td>\n",
       "      <td>Human_colon_16S8159187</td>\n",
       "      <td>0.032772</td>\n",
       "      <td>0.293388</td>\n",
       "      <td>True</td>\n",
       "      <td>nan</td>\n",
       "      <td>GU</td>\n",
       "      <td>CD45P_CD45N</td>\n",
       "      <td>15</td>\n",
       "      <td>...</td>\n",
       "      <td>11.0</td>\n",
       "      <td>16.0</td>\n",
       "      <td>0.0</td>\n",
       "      <td>NaN</td>\n",
       "      <td>1.0</td>\n",
       "      <td>1.0</td>\n",
       "      <td>2627</td>\n",
       "      <td>12236.0</td>\n",
       "      <td>401.0</td>\n",
       "      <td>3.277215</td>\n",
       "    </tr>\n",
       "    <tr>\n",
       "      <th>Human_colon_16S8159187-TTAGGCATCAAGAAGT</th>\n",
       "      <td>11355.0</td>\n",
       "      <td>2709</td>\n",
       "      <td>Human_colon_16S8159187</td>\n",
       "      <td>0.035315</td>\n",
       "      <td>0.136000</td>\n",
       "      <td>False</td>\n",
       "      <td>nan</td>\n",
       "      <td>GU</td>\n",
       "      <td>CD45P_CD45N</td>\n",
       "      <td>15</td>\n",
       "      <td>...</td>\n",
       "      <td>13.0</td>\n",
       "      <td>3.0</td>\n",
       "      <td>1.0</td>\n",
       "      <td>NaN</td>\n",
       "      <td>1.0</td>\n",
       "      <td>1.0</td>\n",
       "      <td>2709</td>\n",
       "      <td>11355.0</td>\n",
       "      <td>401.0</td>\n",
       "      <td>3.531484</td>\n",
       "    </tr>\n",
       "    <tr>\n",
       "      <th>Human_colon_16S8159187-AGAATAGAGTGTGAAT</th>\n",
       "      <td>8394.0</td>\n",
       "      <td>2161</td>\n",
       "      <td>Human_colon_16S8159187</td>\n",
       "      <td>0.024184</td>\n",
       "      <td>0.195231</td>\n",
       "      <td>False</td>\n",
       "      <td>nan</td>\n",
       "      <td>GU</td>\n",
       "      <td>CD45P_CD45N</td>\n",
       "      <td>15</td>\n",
       "      <td>...</td>\n",
       "      <td>12.0</td>\n",
       "      <td>6.0</td>\n",
       "      <td>0.0</td>\n",
       "      <td>8.0</td>\n",
       "      <td>1.0</td>\n",
       "      <td>1.0</td>\n",
       "      <td>2161</td>\n",
       "      <td>8394.0</td>\n",
       "      <td>203.0</td>\n",
       "      <td>2.418394</td>\n",
       "    </tr>\n",
       "    <tr>\n",
       "      <th>Human_colon_16S8159187-GGATTACAGAGAGCTC</th>\n",
       "      <td>7740.0</td>\n",
       "      <td>2316</td>\n",
       "      <td>Human_colon_16S8159187</td>\n",
       "      <td>0.024419</td>\n",
       "      <td>0.112676</td>\n",
       "      <td>False</td>\n",
       "      <td>nan</td>\n",
       "      <td>GU</td>\n",
       "      <td>CD45P_CD45N</td>\n",
       "      <td>15</td>\n",
       "      <td>...</td>\n",
       "      <td>NaN</td>\n",
       "      <td>NaN</td>\n",
       "      <td>NaN</td>\n",
       "      <td>NaN</td>\n",
       "      <td>NaN</td>\n",
       "      <td>nan</td>\n",
       "      <td>2316</td>\n",
       "      <td>7740.0</td>\n",
       "      <td>189.0</td>\n",
       "      <td>2.441860</td>\n",
       "    </tr>\n",
       "    <tr>\n",
       "      <th>Human_colon_16S8159187-TTCTACACATACAGCT</th>\n",
       "      <td>6661.0</td>\n",
       "      <td>1625</td>\n",
       "      <td>Human_colon_16S8159187</td>\n",
       "      <td>0.014112</td>\n",
       "      <td>0.109792</td>\n",
       "      <td>False</td>\n",
       "      <td>nan</td>\n",
       "      <td>GU</td>\n",
       "      <td>CD45P_CD45N</td>\n",
       "      <td>15</td>\n",
       "      <td>...</td>\n",
       "      <td>NaN</td>\n",
       "      <td>NaN</td>\n",
       "      <td>NaN</td>\n",
       "      <td>NaN</td>\n",
       "      <td>NaN</td>\n",
       "      <td>nan</td>\n",
       "      <td>1625</td>\n",
       "      <td>6661.0</td>\n",
       "      <td>94.0</td>\n",
       "      <td>1.411199</td>\n",
       "    </tr>\n",
       "    <tr>\n",
       "      <th>...</th>\n",
       "      <td>...</td>\n",
       "      <td>...</td>\n",
       "      <td>...</td>\n",
       "      <td>...</td>\n",
       "      <td>...</td>\n",
       "      <td>...</td>\n",
       "      <td>...</td>\n",
       "      <td>...</td>\n",
       "      <td>...</td>\n",
       "      <td>...</td>\n",
       "      <td>...</td>\n",
       "      <td>...</td>\n",
       "      <td>...</td>\n",
       "      <td>...</td>\n",
       "      <td>...</td>\n",
       "      <td>...</td>\n",
       "      <td>...</td>\n",
       "      <td>...</td>\n",
       "      <td>...</td>\n",
       "      <td>...</td>\n",
       "      <td>...</td>\n",
       "    </tr>\n",
       "    <tr>\n",
       "      <th>FCAImmP7803020-CGATCGGGTAGAGCTG</th>\n",
       "      <td>2074.0</td>\n",
       "      <td>693</td>\n",
       "      <td>FCAImmP7803020</td>\n",
       "      <td>0.030858</td>\n",
       "      <td>0.030568</td>\n",
       "      <td>False</td>\n",
       "      <td>nan</td>\n",
       "      <td>SP</td>\n",
       "      <td>CD45P</td>\n",
       "      <td>15</td>\n",
       "      <td>...</td>\n",
       "      <td>NaN</td>\n",
       "      <td>NaN</td>\n",
       "      <td>NaN</td>\n",
       "      <td>NaN</td>\n",
       "      <td>NaN</td>\n",
       "      <td>nan</td>\n",
       "      <td>693</td>\n",
       "      <td>2074.0</td>\n",
       "      <td>64.0</td>\n",
       "      <td>3.085824</td>\n",
       "    </tr>\n",
       "    <tr>\n",
       "      <th>FCAImmP7803020-AGACGTTAGAGGTTAT</th>\n",
       "      <td>2064.0</td>\n",
       "      <td>890</td>\n",
       "      <td>FCAImmP7803020</td>\n",
       "      <td>0.021318</td>\n",
       "      <td>0.023443</td>\n",
       "      <td>False</td>\n",
       "      <td>B CELL</td>\n",
       "      <td>SP</td>\n",
       "      <td>CD45P</td>\n",
       "      <td>15</td>\n",
       "      <td>...</td>\n",
       "      <td>14.0</td>\n",
       "      <td>31.0</td>\n",
       "      <td>9.0</td>\n",
       "      <td>NaN</td>\n",
       "      <td>1.0</td>\n",
       "      <td>1</td>\n",
       "      <td>890</td>\n",
       "      <td>2064.0</td>\n",
       "      <td>44.0</td>\n",
       "      <td>2.131783</td>\n",
       "    </tr>\n",
       "    <tr>\n",
       "      <th>FCAImmP7803020-GTGTTAGCACCGGAAA</th>\n",
       "      <td>2048.0</td>\n",
       "      <td>737</td>\n",
       "      <td>FCAImmP7803020</td>\n",
       "      <td>0.016113</td>\n",
       "      <td>0.028409</td>\n",
       "      <td>False</td>\n",
       "      <td>nan</td>\n",
       "      <td>SP</td>\n",
       "      <td>CD45P</td>\n",
       "      <td>15</td>\n",
       "      <td>...</td>\n",
       "      <td>NaN</td>\n",
       "      <td>NaN</td>\n",
       "      <td>NaN</td>\n",
       "      <td>NaN</td>\n",
       "      <td>NaN</td>\n",
       "      <td>nan</td>\n",
       "      <td>737</td>\n",
       "      <td>2048.0</td>\n",
       "      <td>33.0</td>\n",
       "      <td>1.611328</td>\n",
       "    </tr>\n",
       "    <tr>\n",
       "      <th>FCAImmP7803020-ACACCGGGTGTCTGAT</th>\n",
       "      <td>2040.0</td>\n",
       "      <td>734</td>\n",
       "      <td>FCAImmP7803020</td>\n",
       "      <td>0.059804</td>\n",
       "      <td>0.031688</td>\n",
       "      <td>False</td>\n",
       "      <td>nan</td>\n",
       "      <td>SP</td>\n",
       "      <td>CD45P</td>\n",
       "      <td>15</td>\n",
       "      <td>...</td>\n",
       "      <td>NaN</td>\n",
       "      <td>NaN</td>\n",
       "      <td>NaN</td>\n",
       "      <td>NaN</td>\n",
       "      <td>NaN</td>\n",
       "      <td>nan</td>\n",
       "      <td>734</td>\n",
       "      <td>2040.0</td>\n",
       "      <td>122.0</td>\n",
       "      <td>5.980392</td>\n",
       "    </tr>\n",
       "    <tr>\n",
       "      <th>FCAImmP7803020-CGATGTAGTCTGCGGT</th>\n",
       "      <td>2018.0</td>\n",
       "      <td>826</td>\n",
       "      <td>FCAImmP7803020</td>\n",
       "      <td>0.038652</td>\n",
       "      <td>0.008183</td>\n",
       "      <td>False</td>\n",
       "      <td>B CELL</td>\n",
       "      <td>SP</td>\n",
       "      <td>CD45P</td>\n",
       "      <td>15</td>\n",
       "      <td>...</td>\n",
       "      <td>11.0</td>\n",
       "      <td>7.0</td>\n",
       "      <td>0.0</td>\n",
       "      <td>2.0</td>\n",
       "      <td>1.0</td>\n",
       "      <td>1</td>\n",
       "      <td>826</td>\n",
       "      <td>2018.0</td>\n",
       "      <td>78.0</td>\n",
       "      <td>3.865213</td>\n",
       "    </tr>\n",
       "  </tbody>\n",
       "</table>\n",
       "<p>29818 rows × 75 columns</p>\n",
       "</div>"
      ],
      "text/plain": [
       "                                         n_counts  n_genes  \\\n",
       "index                                                        \n",
       "Human_colon_16S8159187-AGCTCTCAGTGTACTC   12236.0     2627   \n",
       "Human_colon_16S8159187-TTAGGCATCAAGAAGT   11355.0     2709   \n",
       "Human_colon_16S8159187-AGAATAGAGTGTGAAT    8394.0     2161   \n",
       "Human_colon_16S8159187-GGATTACAGAGAGCTC    7740.0     2316   \n",
       "Human_colon_16S8159187-TTCTACACATACAGCT    6661.0     1625   \n",
       "...                                           ...      ...   \n",
       "FCAImmP7803020-CGATCGGGTAGAGCTG            2074.0      693   \n",
       "FCAImmP7803020-AGACGTTAGAGGTTAT            2064.0      890   \n",
       "FCAImmP7803020-GTGTTAGCACCGGAAA            2048.0      737   \n",
       "FCAImmP7803020-ACACCGGGTGTCTGAT            2040.0      734   \n",
       "FCAImmP7803020-CGATGTAGTCTGCGGT            2018.0      826   \n",
       "\n",
       "                                                           file      mito  \\\n",
       "index                                                                       \n",
       "Human_colon_16S8159187-AGCTCTCAGTGTACTC  Human_colon_16S8159187  0.032772   \n",
       "Human_colon_16S8159187-TTAGGCATCAAGAAGT  Human_colon_16S8159187  0.035315   \n",
       "Human_colon_16S8159187-AGAATAGAGTGTGAAT  Human_colon_16S8159187  0.024184   \n",
       "Human_colon_16S8159187-GGATTACAGAGAGCTC  Human_colon_16S8159187  0.024419   \n",
       "Human_colon_16S8159187-TTCTACACATACAGCT  Human_colon_16S8159187  0.014112   \n",
       "...                                                         ...       ...   \n",
       "FCAImmP7803020-CGATCGGGTAGAGCTG                  FCAImmP7803020  0.030858   \n",
       "FCAImmP7803020-AGACGTTAGAGGTTAT                  FCAImmP7803020  0.021318   \n",
       "FCAImmP7803020-GTGTTAGCACCGGAAA                  FCAImmP7803020  0.016113   \n",
       "FCAImmP7803020-ACACCGGGTGTCTGAT                  FCAImmP7803020  0.059804   \n",
       "FCAImmP7803020-CGATGTAGTCTGCGGT                  FCAImmP7803020  0.038652   \n",
       "\n",
       "                                         doublet_scores predicted_doublets  \\\n",
       "index                                                                        \n",
       "Human_colon_16S8159187-AGCTCTCAGTGTACTC        0.293388               True   \n",
       "Human_colon_16S8159187-TTAGGCATCAAGAAGT        0.136000              False   \n",
       "Human_colon_16S8159187-AGAATAGAGTGTGAAT        0.195231              False   \n",
       "Human_colon_16S8159187-GGATTACAGAGAGCTC        0.112676              False   \n",
       "Human_colon_16S8159187-TTCTACACATACAGCT        0.109792              False   \n",
       "...                                                 ...                ...   \n",
       "FCAImmP7803020-CGATCGGGTAGAGCTG                0.030568              False   \n",
       "FCAImmP7803020-AGACGTTAGAGGTTAT                0.023443              False   \n",
       "FCAImmP7803020-GTGTTAGCACCGGAAA                0.028409              False   \n",
       "FCAImmP7803020-ACACCGGGTGTCTGAT                0.031688              False   \n",
       "FCAImmP7803020-CGATGTAGTCTGCGGT                0.008183              False   \n",
       "\n",
       "                                        old_annotation_uniform organ  \\\n",
       "index                                                                  \n",
       "Human_colon_16S8159187-AGCTCTCAGTGTACTC                    nan    GU   \n",
       "Human_colon_16S8159187-TTAGGCATCAAGAAGT                    nan    GU   \n",
       "Human_colon_16S8159187-AGAATAGAGTGTGAAT                    nan    GU   \n",
       "Human_colon_16S8159187-GGATTACAGAGAGCTC                    nan    GU   \n",
       "Human_colon_16S8159187-TTCTACACATACAGCT                    nan    GU   \n",
       "...                                                        ...   ...   \n",
       "FCAImmP7803020-CGATCGGGTAGAGCTG                            nan    SP   \n",
       "FCAImmP7803020-AGACGTTAGAGGTTAT                         B CELL    SP   \n",
       "FCAImmP7803020-GTGTTAGCACCGGAAA                            nan    SP   \n",
       "FCAImmP7803020-ACACCGGGTGTCTGAT                            nan    SP   \n",
       "FCAImmP7803020-CGATGTAGTCTGCGGT                         B CELL    SP   \n",
       "\n",
       "                                             Sort_id  age  ...  \\\n",
       "index                                                      ...   \n",
       "Human_colon_16S8159187-AGCTCTCAGTGTACTC  CD45P_CD45N   15  ...   \n",
       "Human_colon_16S8159187-TTAGGCATCAAGAAGT  CD45P_CD45N   15  ...   \n",
       "Human_colon_16S8159187-AGAATAGAGTGTGAAT  CD45P_CD45N   15  ...   \n",
       "Human_colon_16S8159187-GGATTACAGAGAGCTC  CD45P_CD45N   15  ...   \n",
       "Human_colon_16S8159187-TTCTACACATACAGCT  CD45P_CD45N   15  ...   \n",
       "...                                              ...  ...  ...   \n",
       "FCAImmP7803020-CGATCGGGTAGAGCTG                CD45P   15  ...   \n",
       "FCAImmP7803020-AGACGTTAGAGGTTAT                CD45P   15  ...   \n",
       "FCAImmP7803020-GTGTTAGCACCGGAAA                CD45P   15  ...   \n",
       "FCAImmP7803020-ACACCGGGTGTCTGAT                CD45P   15  ...   \n",
       "FCAImmP7803020-CGATGTAGTCTGCGGT                CD45P   15  ...   \n",
       "\n",
       "                                        junction_aa_length_VJ np1_length_VDJ  \\\n",
       "index                                                                          \n",
       "Human_colon_16S8159187-AGCTCTCAGTGTACTC                  11.0           16.0   \n",
       "Human_colon_16S8159187-TTAGGCATCAAGAAGT                  13.0            3.0   \n",
       "Human_colon_16S8159187-AGAATAGAGTGTGAAT                  12.0            6.0   \n",
       "Human_colon_16S8159187-GGATTACAGAGAGCTC                   NaN            NaN   \n",
       "Human_colon_16S8159187-TTCTACACATACAGCT                   NaN            NaN   \n",
       "...                                                       ...            ...   \n",
       "FCAImmP7803020-CGATCGGGTAGAGCTG                           NaN            NaN   \n",
       "FCAImmP7803020-AGACGTTAGAGGTTAT                          14.0           31.0   \n",
       "FCAImmP7803020-GTGTTAGCACCGGAAA                           NaN            NaN   \n",
       "FCAImmP7803020-ACACCGGGTGTCTGAT                           NaN            NaN   \n",
       "FCAImmP7803020-CGATGTAGTCTGCGGT                          11.0            7.0   \n",
       "\n",
       "                                        np1_length_VJ np2_length_VDJ  \\\n",
       "index                                                                  \n",
       "Human_colon_16S8159187-AGCTCTCAGTGTACTC           0.0            NaN   \n",
       "Human_colon_16S8159187-TTAGGCATCAAGAAGT           1.0            NaN   \n",
       "Human_colon_16S8159187-AGAATAGAGTGTGAAT           0.0            8.0   \n",
       "Human_colon_16S8159187-GGATTACAGAGAGCTC           NaN            NaN   \n",
       "Human_colon_16S8159187-TTCTACACATACAGCT           NaN            NaN   \n",
       "...                                               ...            ...   \n",
       "FCAImmP7803020-CGATCGGGTAGAGCTG                   NaN            NaN   \n",
       "FCAImmP7803020-AGACGTTAGAGGTTAT                   9.0            NaN   \n",
       "FCAImmP7803020-GTGTTAGCACCGGAAA                   NaN            NaN   \n",
       "FCAImmP7803020-ACACCGGGTGTCTGAT                   NaN            NaN   \n",
       "FCAImmP7803020-CGATGTAGTCTGCGGT                   0.0            2.0   \n",
       "\n",
       "                                        clone_id_size  clone_id_size_max_3  \\\n",
       "index                                                                        \n",
       "Human_colon_16S8159187-AGCTCTCAGTGTACTC           1.0                  1.0   \n",
       "Human_colon_16S8159187-TTAGGCATCAAGAAGT           1.0                  1.0   \n",
       "Human_colon_16S8159187-AGAATAGAGTGTGAAT           1.0                  1.0   \n",
       "Human_colon_16S8159187-GGATTACAGAGAGCTC           NaN                  nan   \n",
       "Human_colon_16S8159187-TTCTACACATACAGCT           NaN                  nan   \n",
       "...                                               ...                  ...   \n",
       "FCAImmP7803020-CGATCGGGTAGAGCTG                   NaN                  nan   \n",
       "FCAImmP7803020-AGACGTTAGAGGTTAT                   1.0                    1   \n",
       "FCAImmP7803020-GTGTTAGCACCGGAAA                   NaN                  nan   \n",
       "FCAImmP7803020-ACACCGGGTGTCTGAT                   NaN                  nan   \n",
       "FCAImmP7803020-CGATGTAGTCTGCGGT                   1.0                    1   \n",
       "\n",
       "                                        n_genes_by_counts total_counts  \\\n",
       "index                                                                    \n",
       "Human_colon_16S8159187-AGCTCTCAGTGTACTC              2627      12236.0   \n",
       "Human_colon_16S8159187-TTAGGCATCAAGAAGT              2709      11355.0   \n",
       "Human_colon_16S8159187-AGAATAGAGTGTGAAT              2161       8394.0   \n",
       "Human_colon_16S8159187-GGATTACAGAGAGCTC              2316       7740.0   \n",
       "Human_colon_16S8159187-TTCTACACATACAGCT              1625       6661.0   \n",
       "...                                                   ...          ...   \n",
       "FCAImmP7803020-CGATCGGGTAGAGCTG                       693       2074.0   \n",
       "FCAImmP7803020-AGACGTTAGAGGTTAT                       890       2064.0   \n",
       "FCAImmP7803020-GTGTTAGCACCGGAAA                       737       2048.0   \n",
       "FCAImmP7803020-ACACCGGGTGTCTGAT                       734       2040.0   \n",
       "FCAImmP7803020-CGATGTAGTCTGCGGT                       826       2018.0   \n",
       "\n",
       "                                         total_counts_mt pct_counts_mt  \n",
       "index                                                                   \n",
       "Human_colon_16S8159187-AGCTCTCAGTGTACTC            401.0      3.277215  \n",
       "Human_colon_16S8159187-TTAGGCATCAAGAAGT            401.0      3.531484  \n",
       "Human_colon_16S8159187-AGAATAGAGTGTGAAT            203.0      2.418394  \n",
       "Human_colon_16S8159187-GGATTACAGAGAGCTC            189.0      2.441860  \n",
       "Human_colon_16S8159187-TTCTACACATACAGCT             94.0      1.411199  \n",
       "...                                                  ...           ...  \n",
       "FCAImmP7803020-CGATCGGGTAGAGCTG                     64.0      3.085824  \n",
       "FCAImmP7803020-AGACGTTAGAGGTTAT                     44.0      2.131783  \n",
       "FCAImmP7803020-GTGTTAGCACCGGAAA                     33.0      1.611328  \n",
       "FCAImmP7803020-ACACCGGGTGTCTGAT                    122.0      5.980392  \n",
       "FCAImmP7803020-CGATGTAGTCTGCGGT                     78.0      3.865213  \n",
       "\n",
       "[29818 rows x 75 columns]"
      ]
     },
     "execution_count": 4,
     "metadata": {},
     "output_type": "execute_result"
    }
   ],
   "source": [
    "adata.obs"
   ]
  },
  {
   "cell_type": "code",
   "execution_count": 4,
   "id": "0a800544",
   "metadata": {},
   "outputs": [
    {
     "data": {
      "text/plain": [
       "AnnData object with n_obs × n_vars = 29818 × 33538\n",
       "    obs: 'n_counts', 'n_genes', 'file', 'mito', 'doublet_scores', 'predicted_doublets', 'old_annotation_uniform', 'organ', 'Sort_id', 'age', 'method', 'donor', 'sex', 'Sample', 'scvi_clusters', 'is_maternal_contaminant', 'anno_lvl_2_final_clean', 'celltype_annotation', 'filter_rna', 'has_contig', 'filter_contig_quality', 'filter_contig_VDJ', 'filter_contig_VJ', 'contig_QC_pass', 'filter_contig', 'clone_id', 'clone_id_by_size', 'sample_id', 'locus_VDJ', 'locus_VJ', 'productive_VDJ', 'productive_VJ', 'v_call_genotyped_VDJ', 'v_call_genotyped_VJ', 'd_call_VDJ', 'j_call_VDJ', 'j_call_VJ', 'c_call_VDJ', 'c_call_VJ', 'duplicate_count_VDJ', 'duplicate_count_VJ', 'duplicate_count_VDJ_1', 'duplicate_count_VJ_1', 'duplicate_count_VDJ_2', 'duplicate_count_VDJ_3', 'junction_aa_VDJ', 'junction_aa_VJ', 'locus_status', 'locus_status_summary', 'productive', 'productive_summary', 'isotype', 'isotype_summary', 'vdj_status', 'vdj_status_summary', 'constant_status_summary', 'mu_count_VDJ', 'mu_count_VJ', 'mu_freq_VDJ', 'mu_freq_VJ', 'mu_count', 'mu_freq', 'junction_length_VDJ', 'junction_length_VJ', 'junction_aa_length_VDJ', 'junction_aa_length_VJ', 'np1_length_VDJ', 'np1_length_VJ', 'np2_length_VDJ', 'clone_id_size', 'clone_id_size_max_3'\n",
       "    var: 'GeneID', 'GeneName', 'highly_variable', 'means', 'dispersions', 'dispersions_norm', 'scvi_model_var'\n",
       "    uns: 'dendrogram_scvi_clusters', 'locus_status_summary_colors', 'scvi'\n",
       "    obsm: 'X_scvi', 'X_umap'\n",
       "    obsp: 'scvi_connectivities', 'scvi_distances'"
      ]
     },
     "execution_count": 4,
     "metadata": {},
     "output_type": "execute_result"
    }
   ],
   "source": [
    "adata = sc.read_h5ad(os.getcwd() + \"/data/Fetal/FICA_Bcell_BCR_Suo2022.h5ad\") # gene expression results\n",
    "adata\n"
   ]
  },
  {
   "cell_type": "markdown",
   "id": "b04d8e34",
   "metadata": {},
   "source": [
    "## BCR\n"
   ]
  },
  {
   "cell_type": "code",
   "execution_count": 7,
   "id": "3e97fbf9",
   "metadata": {},
   "outputs": [
    {
     "data": {
      "text/html": [
       "<div>\n",
       "<style scoped>\n",
       "    .dataframe tbody tr th:only-of-type {\n",
       "        vertical-align: middle;\n",
       "    }\n",
       "\n",
       "    .dataframe tbody tr th {\n",
       "        vertical-align: top;\n",
       "    }\n",
       "\n",
       "    .dataframe thead th {\n",
       "        text-align: right;\n",
       "    }\n",
       "</style>\n",
       "<table border=\"1\" class=\"dataframe\">\n",
       "  <thead>\n",
       "    <tr style=\"text-align: right;\">\n",
       "      <th></th>\n",
       "      <th>sample</th>\n",
       "      <th>prefix</th>\n",
       "      <th>individual</th>\n",
       "      <th>GEX_file</th>\n",
       "    </tr>\n",
       "  </thead>\n",
       "  <tbody>\n",
       "    <tr>\n",
       "      <th>0</th>\n",
       "      <td>WSSS_F_Imm10014564</td>\n",
       "      <td>FCAImmP7292029</td>\n",
       "      <td>F29</td>\n",
       "      <td>FCAImmP7292029</td>\n",
       "    </tr>\n",
       "    <tr>\n",
       "      <th>1</th>\n",
       "      <td>WSSS_F_Imm10014565</td>\n",
       "      <td>FCAImmP7292031</td>\n",
       "      <td>F29</td>\n",
       "      <td>FCAImmP7292031</td>\n",
       "    </tr>\n",
       "    <tr>\n",
       "      <th>2</th>\n",
       "      <td>WSSS_F_Imm10014566</td>\n",
       "      <td>FCAImmP7292030</td>\n",
       "      <td>F29</td>\n",
       "      <td>FCAImmP7292030</td>\n",
       "    </tr>\n",
       "    <tr>\n",
       "      <th>3</th>\n",
       "      <td>WSSS_F_Imm10014567</td>\n",
       "      <td>FCAImmP7555860</td>\n",
       "      <td>F41</td>\n",
       "      <td>FCAImmP7555860</td>\n",
       "    </tr>\n",
       "    <tr>\n",
       "      <th>4</th>\n",
       "      <td>WSSS_F_Imm10014568</td>\n",
       "      <td>FCAImmP7555856</td>\n",
       "      <td>F41</td>\n",
       "      <td>FCAImmP7555856</td>\n",
       "    </tr>\n",
       "    <tr>\n",
       "      <th>5</th>\n",
       "      <td>WSSS_F_Imm10014569</td>\n",
       "      <td>FCAImmP7555862</td>\n",
       "      <td>F41</td>\n",
       "      <td>FCAImmP7555862</td>\n",
       "    </tr>\n",
       "    <tr>\n",
       "      <th>6</th>\n",
       "      <td>WSSS_F_Imm10014570</td>\n",
       "      <td>FCAImmP7555859</td>\n",
       "      <td>F41</td>\n",
       "      <td>FCAImmP7555859</td>\n",
       "    </tr>\n",
       "    <tr>\n",
       "      <th>7</th>\n",
       "      <td>WSSS_F_Imm10014571</td>\n",
       "      <td>FCAImmP7579230</td>\n",
       "      <td>F45</td>\n",
       "      <td>FCAImmP7579230</td>\n",
       "    </tr>\n",
       "    <tr>\n",
       "      <th>8</th>\n",
       "      <td>WSSS_F_Imm10014572</td>\n",
       "      <td>FCAImmP7579226</td>\n",
       "      <td>F45</td>\n",
       "      <td>FCAImmP7579226</td>\n",
       "    </tr>\n",
       "    <tr>\n",
       "      <th>9</th>\n",
       "      <td>WSSS_F_Imm10014573</td>\n",
       "      <td>FCAImmP7579228</td>\n",
       "      <td>F45</td>\n",
       "      <td>FCAImmP7579228</td>\n",
       "    </tr>\n",
       "    <tr>\n",
       "      <th>10</th>\n",
       "      <td>WSSS_F_Imm10014574</td>\n",
       "      <td>FCAImmP7579232</td>\n",
       "      <td>F45</td>\n",
       "      <td>FCAImmP7579232</td>\n",
       "    </tr>\n",
       "    <tr>\n",
       "      <th>11</th>\n",
       "      <td>WSSS_F_Imm10014575-FCAImmP7812649</td>\n",
       "      <td>FCAImmP7803020</td>\n",
       "      <td>F50</td>\n",
       "      <td>FCAImmP7803020</td>\n",
       "    </tr>\n",
       "    <tr>\n",
       "      <th>12</th>\n",
       "      <td>WSSS_F_Imm10014576-FCAImmP7812650</td>\n",
       "      <td>FCAImmP7803021</td>\n",
       "      <td>F50</td>\n",
       "      <td>FCAImmP7803021</td>\n",
       "    </tr>\n",
       "    <tr>\n",
       "      <th>13</th>\n",
       "      <td>WSSS_F_Imm10014577</td>\n",
       "      <td>FCAImmP7803016</td>\n",
       "      <td>F50</td>\n",
       "      <td>FCAImmP7803016</td>\n",
       "    </tr>\n",
       "    <tr>\n",
       "      <th>14</th>\n",
       "      <td>WSSS_F_Imm10014578</td>\n",
       "      <td>FCAImmP7803017</td>\n",
       "      <td>F50</td>\n",
       "      <td>FCAImmP7803017</td>\n",
       "    </tr>\n",
       "    <tr>\n",
       "      <th>15</th>\n",
       "      <td>WSSS_F_Imm10014579</td>\n",
       "      <td>FCAImmP7803037</td>\n",
       "      <td>F51</td>\n",
       "      <td>FCAImmP7803037</td>\n",
       "    </tr>\n",
       "    <tr>\n",
       "      <th>16</th>\n",
       "      <td>WSSS_F_Imm10014580</td>\n",
       "      <td>FCAImmP7803038</td>\n",
       "      <td>F51</td>\n",
       "      <td>FCAImmP7803038</td>\n",
       "    </tr>\n",
       "    <tr>\n",
       "      <th>17</th>\n",
       "      <td>WSSS_F_Imm10014581</td>\n",
       "      <td>FCAImmP7803034</td>\n",
       "      <td>F51</td>\n",
       "      <td>FCAImmP7803034</td>\n",
       "    </tr>\n",
       "    <tr>\n",
       "      <th>18</th>\n",
       "      <td>WSSS_F_Imm10014582</td>\n",
       "      <td>FCAImmP7803035</td>\n",
       "      <td>F51</td>\n",
       "      <td>FCAImmP7803035</td>\n",
       "    </tr>\n",
       "    <tr>\n",
       "      <th>19</th>\n",
       "      <td>WSSS_F_Imm10014583</td>\n",
       "      <td>FCAImmP7803028</td>\n",
       "      <td>F51</td>\n",
       "      <td>FCAImmP7803028</td>\n",
       "    </tr>\n",
       "    <tr>\n",
       "      <th>20</th>\n",
       "      <td>WSSS_F_Imm10014584</td>\n",
       "      <td>FCAImmP7803029</td>\n",
       "      <td>F51</td>\n",
       "      <td>FCAImmP7803029</td>\n",
       "    </tr>\n",
       "    <tr>\n",
       "      <th>21</th>\n",
       "      <td>WSSS_F_Imm10014585</td>\n",
       "      <td>FCAImmP7803030</td>\n",
       "      <td>F51</td>\n",
       "      <td>FCAImmP7803030</td>\n",
       "    </tr>\n",
       "    <tr>\n",
       "      <th>22</th>\n",
       "      <td>WSSS_F_Imm10014586</td>\n",
       "      <td>FCAImmP7862084</td>\n",
       "      <td>F61</td>\n",
       "      <td>FCAImmP7862084</td>\n",
       "    </tr>\n",
       "    <tr>\n",
       "      <th>23</th>\n",
       "      <td>WSSS_F_Imm10014587</td>\n",
       "      <td>FCAImmP7964506</td>\n",
       "      <td>F71</td>\n",
       "      <td>FCAImmP7964506</td>\n",
       "    </tr>\n",
       "    <tr>\n",
       "      <th>24</th>\n",
       "      <td>WSSS_F_Imm10014588</td>\n",
       "      <td>FCAImmP7964507</td>\n",
       "      <td>F71</td>\n",
       "      <td>FCAImmP7964507</td>\n",
       "    </tr>\n",
       "    <tr>\n",
       "      <th>25</th>\n",
       "      <td>FCAImmP7812651</td>\n",
       "      <td>FCAImmP7803024</td>\n",
       "      <td>F50</td>\n",
       "      <td>FCAImmP7803024</td>\n",
       "    </tr>\n",
       "    <tr>\n",
       "      <th>26</th>\n",
       "      <td>FCAImmP7812652</td>\n",
       "      <td>FCAImmP7803025</td>\n",
       "      <td>F50</td>\n",
       "      <td>FCAImmP7803025</td>\n",
       "    </tr>\n",
       "    <tr>\n",
       "      <th>27</th>\n",
       "      <td>FCA_gut8090116</td>\n",
       "      <td>FCA_gut8015057</td>\n",
       "      <td>F78</td>\n",
       "      <td>FCA_gut8015057</td>\n",
       "    </tr>\n",
       "    <tr>\n",
       "      <th>28</th>\n",
       "      <td>FCA_gut8090117</td>\n",
       "      <td>FCA_gut8015058</td>\n",
       "      <td>F78</td>\n",
       "      <td>FCA_gut8015058</td>\n",
       "    </tr>\n",
       "    <tr>\n",
       "      <th>29</th>\n",
       "      <td>FCA_gut8090118</td>\n",
       "      <td>FCA_gut8015059</td>\n",
       "      <td>F78</td>\n",
       "      <td>FCA_gut8015059</td>\n",
       "    </tr>\n",
       "    <tr>\n",
       "      <th>30</th>\n",
       "      <td>FCA_gut8090119</td>\n",
       "      <td>FCA_gut8015060</td>\n",
       "      <td>F78</td>\n",
       "      <td>FCA_gut8015060</td>\n",
       "    </tr>\n",
       "    <tr>\n",
       "      <th>31</th>\n",
       "      <td>FCA_gut8090120</td>\n",
       "      <td>FCA_gut8015061</td>\n",
       "      <td>F78</td>\n",
       "      <td>FCA_gut8015061</td>\n",
       "    </tr>\n",
       "    <tr>\n",
       "      <th>32</th>\n",
       "      <td>Human_colon_16S8157863</td>\n",
       "      <td>Human_colon_16S8159182</td>\n",
       "      <td>F72</td>\n",
       "      <td>Human_colon_16S8159182</td>\n",
       "    </tr>\n",
       "    <tr>\n",
       "      <th>33</th>\n",
       "      <td>Human_colon_16S8157864</td>\n",
       "      <td>Human_colon_16S8159183</td>\n",
       "      <td>F72</td>\n",
       "      <td>Human_colon_16S8159183</td>\n",
       "    </tr>\n",
       "    <tr>\n",
       "      <th>34</th>\n",
       "      <td>Human_colon_16S8157865</td>\n",
       "      <td>Human_colon_16S8159184</td>\n",
       "      <td>F72</td>\n",
       "      <td>Human_colon_16S8159184</td>\n",
       "    </tr>\n",
       "    <tr>\n",
       "      <th>35</th>\n",
       "      <td>Human_colon_16S8157866</td>\n",
       "      <td>Human_colon_16S8159185</td>\n",
       "      <td>F72</td>\n",
       "      <td>Human_colon_16S8159185</td>\n",
       "    </tr>\n",
       "    <tr>\n",
       "      <th>36</th>\n",
       "      <td>Human_colon_16S8157867</td>\n",
       "      <td>Human_colon_16S8159186</td>\n",
       "      <td>F72</td>\n",
       "      <td>Human_colon_16S8159186</td>\n",
       "    </tr>\n",
       "    <tr>\n",
       "      <th>37</th>\n",
       "      <td>Human_colon_16S8157868</td>\n",
       "      <td>Human_colon_16S8159187</td>\n",
       "      <td>F73</td>\n",
       "      <td>Human_colon_16S8159187</td>\n",
       "    </tr>\n",
       "    <tr>\n",
       "      <th>38</th>\n",
       "      <td>Human_colon_16S8157869</td>\n",
       "      <td>Human_colon_16S8159188</td>\n",
       "      <td>F73</td>\n",
       "      <td>Human_colon_16S8159188</td>\n",
       "    </tr>\n",
       "    <tr>\n",
       "      <th>39</th>\n",
       "      <td>Human_colon_16S8157870</td>\n",
       "      <td>Human_colon_16S8159189</td>\n",
       "      <td>F73</td>\n",
       "      <td>Human_colon_16S8159189</td>\n",
       "    </tr>\n",
       "    <tr>\n",
       "      <th>40</th>\n",
       "      <td>Human_colon_16S8157871</td>\n",
       "      <td>Human_colon_16S8159190</td>\n",
       "      <td>F73</td>\n",
       "      <td>Human_colon_16S8159190</td>\n",
       "    </tr>\n",
       "  </tbody>\n",
       "</table>\n",
       "</div>"
      ],
      "text/plain": [
       "                               sample                  prefix individual  \\\n",
       "0                  WSSS_F_Imm10014564          FCAImmP7292029        F29   \n",
       "1                  WSSS_F_Imm10014565          FCAImmP7292031        F29   \n",
       "2                  WSSS_F_Imm10014566          FCAImmP7292030        F29   \n",
       "3                  WSSS_F_Imm10014567          FCAImmP7555860        F41   \n",
       "4                  WSSS_F_Imm10014568          FCAImmP7555856        F41   \n",
       "5                  WSSS_F_Imm10014569          FCAImmP7555862        F41   \n",
       "6                  WSSS_F_Imm10014570          FCAImmP7555859        F41   \n",
       "7                  WSSS_F_Imm10014571          FCAImmP7579230        F45   \n",
       "8                  WSSS_F_Imm10014572          FCAImmP7579226        F45   \n",
       "9                  WSSS_F_Imm10014573          FCAImmP7579228        F45   \n",
       "10                 WSSS_F_Imm10014574          FCAImmP7579232        F45   \n",
       "11  WSSS_F_Imm10014575-FCAImmP7812649          FCAImmP7803020        F50   \n",
       "12  WSSS_F_Imm10014576-FCAImmP7812650          FCAImmP7803021        F50   \n",
       "13                 WSSS_F_Imm10014577          FCAImmP7803016        F50   \n",
       "14                 WSSS_F_Imm10014578          FCAImmP7803017        F50   \n",
       "15                 WSSS_F_Imm10014579          FCAImmP7803037        F51   \n",
       "16                 WSSS_F_Imm10014580          FCAImmP7803038        F51   \n",
       "17                 WSSS_F_Imm10014581          FCAImmP7803034        F51   \n",
       "18                 WSSS_F_Imm10014582          FCAImmP7803035        F51   \n",
       "19                 WSSS_F_Imm10014583          FCAImmP7803028        F51   \n",
       "20                 WSSS_F_Imm10014584          FCAImmP7803029        F51   \n",
       "21                 WSSS_F_Imm10014585          FCAImmP7803030        F51   \n",
       "22                 WSSS_F_Imm10014586          FCAImmP7862084        F61   \n",
       "23                 WSSS_F_Imm10014587          FCAImmP7964506        F71   \n",
       "24                 WSSS_F_Imm10014588          FCAImmP7964507        F71   \n",
       "25                     FCAImmP7812651          FCAImmP7803024        F50   \n",
       "26                     FCAImmP7812652          FCAImmP7803025        F50   \n",
       "27                     FCA_gut8090116          FCA_gut8015057        F78   \n",
       "28                     FCA_gut8090117          FCA_gut8015058        F78   \n",
       "29                     FCA_gut8090118          FCA_gut8015059        F78   \n",
       "30                     FCA_gut8090119          FCA_gut8015060        F78   \n",
       "31                     FCA_gut8090120          FCA_gut8015061        F78   \n",
       "32             Human_colon_16S8157863  Human_colon_16S8159182        F72   \n",
       "33             Human_colon_16S8157864  Human_colon_16S8159183        F72   \n",
       "34             Human_colon_16S8157865  Human_colon_16S8159184        F72   \n",
       "35             Human_colon_16S8157866  Human_colon_16S8159185        F72   \n",
       "36             Human_colon_16S8157867  Human_colon_16S8159186        F72   \n",
       "37             Human_colon_16S8157868  Human_colon_16S8159187        F73   \n",
       "38             Human_colon_16S8157869  Human_colon_16S8159188        F73   \n",
       "39             Human_colon_16S8157870  Human_colon_16S8159189        F73   \n",
       "40             Human_colon_16S8157871  Human_colon_16S8159190        F73   \n",
       "\n",
       "                  GEX_file  \n",
       "0           FCAImmP7292029  \n",
       "1           FCAImmP7292031  \n",
       "2           FCAImmP7292030  \n",
       "3           FCAImmP7555860  \n",
       "4           FCAImmP7555856  \n",
       "5           FCAImmP7555862  \n",
       "6           FCAImmP7555859  \n",
       "7           FCAImmP7579230  \n",
       "8           FCAImmP7579226  \n",
       "9           FCAImmP7579228  \n",
       "10          FCAImmP7579232  \n",
       "11          FCAImmP7803020  \n",
       "12          FCAImmP7803021  \n",
       "13          FCAImmP7803016  \n",
       "14          FCAImmP7803017  \n",
       "15          FCAImmP7803037  \n",
       "16          FCAImmP7803038  \n",
       "17          FCAImmP7803034  \n",
       "18          FCAImmP7803035  \n",
       "19          FCAImmP7803028  \n",
       "20          FCAImmP7803029  \n",
       "21          FCAImmP7803030  \n",
       "22          FCAImmP7862084  \n",
       "23          FCAImmP7964506  \n",
       "24          FCAImmP7964507  \n",
       "25          FCAImmP7803024  \n",
       "26          FCAImmP7803025  \n",
       "27          FCA_gut8015057  \n",
       "28          FCA_gut8015058  \n",
       "29          FCA_gut8015059  \n",
       "30          FCA_gut8015060  \n",
       "31          FCA_gut8015061  \n",
       "32  Human_colon_16S8159182  \n",
       "33  Human_colon_16S8159183  \n",
       "34  Human_colon_16S8159184  \n",
       "35  Human_colon_16S8159185  \n",
       "36  Human_colon_16S8159186  \n",
       "37  Human_colon_16S8159187  \n",
       "38  Human_colon_16S8159188  \n",
       "39  Human_colon_16S8159189  \n",
       "40  Human_colon_16S8159190  "
      ]
     },
     "execution_count": 7,
     "metadata": {},
     "output_type": "execute_result"
    }
   ],
   "source": [
    "# add BCR column\n",
    "\n",
    "bcr_metadata = pd.read_csv(os.getcwd() + \"/dandelion-remap/BCR_metadata.csv\")\n",
    "bcr_metadata[\"GEX_file\"] = bcr_metadata[\"prefix\"]\n",
    "bcr_metadata\n",
    "\n",
    "\n"
   ]
  },
  {
   "cell_type": "code",
   "execution_count": 9,
   "id": "e7506d73",
   "metadata": {},
   "outputs": [
    {
     "data": {
      "text/plain": [
       "'G:\\\\My Drive\\\\QBIO7008\\\\R Drive'"
      ]
     },
     "execution_count": 9,
     "metadata": {},
     "output_type": "execute_result"
    }
   ],
   "source": [
    "vdj_loc = os.getcwd()\n",
    "vdj_loc"
   ]
  },
  {
   "cell_type": "code",
   "execution_count": 6,
   "id": "bee08537",
   "metadata": {},
   "outputs": [
    {
     "data": {
      "text/html": [
       "<div>\n",
       "<style scoped>\n",
       "    .dataframe tbody tr th:only-of-type {\n",
       "        vertical-align: middle;\n",
       "    }\n",
       "\n",
       "    .dataframe tbody tr th {\n",
       "        vertical-align: top;\n",
       "    }\n",
       "\n",
       "    .dataframe thead th {\n",
       "        text-align: right;\n",
       "    }\n",
       "</style>\n",
       "<table border=\"1\" class=\"dataframe\">\n",
       "  <thead>\n",
       "    <tr style=\"text-align: right;\">\n",
       "      <th></th>\n",
       "      <th>sample</th>\n",
       "      <th>prefix</th>\n",
       "      <th>individual</th>\n",
       "      <th>GEX_file</th>\n",
       "    </tr>\n",
       "  </thead>\n",
       "  <tbody>\n",
       "    <tr>\n",
       "      <th>0</th>\n",
       "      <td>WSSS_F_Imm10014564</td>\n",
       "      <td>FCAImmP7292029</td>\n",
       "      <td>F29</td>\n",
       "      <td>FCAImmP7292029</td>\n",
       "    </tr>\n",
       "    <tr>\n",
       "      <th>1</th>\n",
       "      <td>WSSS_F_Imm10014565</td>\n",
       "      <td>FCAImmP7292031</td>\n",
       "      <td>F29</td>\n",
       "      <td>FCAImmP7292031</td>\n",
       "    </tr>\n",
       "    <tr>\n",
       "      <th>2</th>\n",
       "      <td>WSSS_F_Imm10014566</td>\n",
       "      <td>FCAImmP7292030</td>\n",
       "      <td>F29</td>\n",
       "      <td>FCAImmP7292030</td>\n",
       "    </tr>\n",
       "    <tr>\n",
       "      <th>3</th>\n",
       "      <td>WSSS_F_Imm10014567</td>\n",
       "      <td>FCAImmP7555860</td>\n",
       "      <td>F41</td>\n",
       "      <td>FCAImmP7555860</td>\n",
       "    </tr>\n",
       "    <tr>\n",
       "      <th>4</th>\n",
       "      <td>WSSS_F_Imm10014568</td>\n",
       "      <td>FCAImmP7555856</td>\n",
       "      <td>F41</td>\n",
       "      <td>FCAImmP7555856</td>\n",
       "    </tr>\n",
       "    <tr>\n",
       "      <th>5</th>\n",
       "      <td>WSSS_F_Imm10014569</td>\n",
       "      <td>FCAImmP7555862</td>\n",
       "      <td>F41</td>\n",
       "      <td>FCAImmP7555862</td>\n",
       "    </tr>\n",
       "    <tr>\n",
       "      <th>6</th>\n",
       "      <td>WSSS_F_Imm10014570</td>\n",
       "      <td>FCAImmP7555859</td>\n",
       "      <td>F41</td>\n",
       "      <td>FCAImmP7555859</td>\n",
       "    </tr>\n",
       "    <tr>\n",
       "      <th>7</th>\n",
       "      <td>WSSS_F_Imm10014571</td>\n",
       "      <td>FCAImmP7579230</td>\n",
       "      <td>F45</td>\n",
       "      <td>FCAImmP7579230</td>\n",
       "    </tr>\n",
       "    <tr>\n",
       "      <th>8</th>\n",
       "      <td>WSSS_F_Imm10014572</td>\n",
       "      <td>FCAImmP7579226</td>\n",
       "      <td>F45</td>\n",
       "      <td>FCAImmP7579226</td>\n",
       "    </tr>\n",
       "    <tr>\n",
       "      <th>9</th>\n",
       "      <td>WSSS_F_Imm10014573</td>\n",
       "      <td>FCAImmP7579228</td>\n",
       "      <td>F45</td>\n",
       "      <td>FCAImmP7579228</td>\n",
       "    </tr>\n",
       "    <tr>\n",
       "      <th>10</th>\n",
       "      <td>WSSS_F_Imm10014574</td>\n",
       "      <td>FCAImmP7579232</td>\n",
       "      <td>F45</td>\n",
       "      <td>FCAImmP7579232</td>\n",
       "    </tr>\n",
       "    <tr>\n",
       "      <th>11</th>\n",
       "      <td>WSSS_F_Imm10014575-FCAImmP7812649</td>\n",
       "      <td>FCAImmP7803020</td>\n",
       "      <td>F50</td>\n",
       "      <td>FCAImmP7803020</td>\n",
       "    </tr>\n",
       "    <tr>\n",
       "      <th>12</th>\n",
       "      <td>WSSS_F_Imm10014576-FCAImmP7812650</td>\n",
       "      <td>FCAImmP7803021</td>\n",
       "      <td>F50</td>\n",
       "      <td>FCAImmP7803021</td>\n",
       "    </tr>\n",
       "    <tr>\n",
       "      <th>13</th>\n",
       "      <td>WSSS_F_Imm10014577</td>\n",
       "      <td>FCAImmP7803016</td>\n",
       "      <td>F50</td>\n",
       "      <td>FCAImmP7803016</td>\n",
       "    </tr>\n",
       "    <tr>\n",
       "      <th>14</th>\n",
       "      <td>WSSS_F_Imm10014578</td>\n",
       "      <td>FCAImmP7803017</td>\n",
       "      <td>F50</td>\n",
       "      <td>FCAImmP7803017</td>\n",
       "    </tr>\n",
       "    <tr>\n",
       "      <th>15</th>\n",
       "      <td>WSSS_F_Imm10014579</td>\n",
       "      <td>FCAImmP7803037</td>\n",
       "      <td>F51</td>\n",
       "      <td>FCAImmP7803037</td>\n",
       "    </tr>\n",
       "    <tr>\n",
       "      <th>16</th>\n",
       "      <td>WSSS_F_Imm10014580</td>\n",
       "      <td>FCAImmP7803038</td>\n",
       "      <td>F51</td>\n",
       "      <td>FCAImmP7803038</td>\n",
       "    </tr>\n",
       "    <tr>\n",
       "      <th>17</th>\n",
       "      <td>WSSS_F_Imm10014581</td>\n",
       "      <td>FCAImmP7803034</td>\n",
       "      <td>F51</td>\n",
       "      <td>FCAImmP7803034</td>\n",
       "    </tr>\n",
       "    <tr>\n",
       "      <th>18</th>\n",
       "      <td>WSSS_F_Imm10014582</td>\n",
       "      <td>FCAImmP7803035</td>\n",
       "      <td>F51</td>\n",
       "      <td>FCAImmP7803035</td>\n",
       "    </tr>\n",
       "    <tr>\n",
       "      <th>19</th>\n",
       "      <td>WSSS_F_Imm10014583</td>\n",
       "      <td>FCAImmP7803028</td>\n",
       "      <td>F51</td>\n",
       "      <td>FCAImmP7803028</td>\n",
       "    </tr>\n",
       "    <tr>\n",
       "      <th>20</th>\n",
       "      <td>WSSS_F_Imm10014584</td>\n",
       "      <td>FCAImmP7803029</td>\n",
       "      <td>F51</td>\n",
       "      <td>FCAImmP7803029</td>\n",
       "    </tr>\n",
       "    <tr>\n",
       "      <th>21</th>\n",
       "      <td>WSSS_F_Imm10014585</td>\n",
       "      <td>FCAImmP7803030</td>\n",
       "      <td>F51</td>\n",
       "      <td>FCAImmP7803030</td>\n",
       "    </tr>\n",
       "    <tr>\n",
       "      <th>22</th>\n",
       "      <td>WSSS_F_Imm10014586</td>\n",
       "      <td>FCAImmP7862084</td>\n",
       "      <td>F61</td>\n",
       "      <td>FCAImmP7862084</td>\n",
       "    </tr>\n",
       "    <tr>\n",
       "      <th>23</th>\n",
       "      <td>WSSS_F_Imm10014587</td>\n",
       "      <td>FCAImmP7964506</td>\n",
       "      <td>F71</td>\n",
       "      <td>FCAImmP7964506</td>\n",
       "    </tr>\n",
       "    <tr>\n",
       "      <th>24</th>\n",
       "      <td>WSSS_F_Imm10014588</td>\n",
       "      <td>FCAImmP7964507</td>\n",
       "      <td>F71</td>\n",
       "      <td>FCAImmP7964507</td>\n",
       "    </tr>\n",
       "    <tr>\n",
       "      <th>25</th>\n",
       "      <td>FCAImmP7812651</td>\n",
       "      <td>FCAImmP7803024</td>\n",
       "      <td>F50</td>\n",
       "      <td>FCAImmP7803024</td>\n",
       "    </tr>\n",
       "    <tr>\n",
       "      <th>26</th>\n",
       "      <td>FCAImmP7812652</td>\n",
       "      <td>FCAImmP7803025</td>\n",
       "      <td>F50</td>\n",
       "      <td>FCAImmP7803025</td>\n",
       "    </tr>\n",
       "    <tr>\n",
       "      <th>27</th>\n",
       "      <td>FCA_gut8090116</td>\n",
       "      <td>FCA_gut8015057</td>\n",
       "      <td>F78</td>\n",
       "      <td>FCA_gut8015057</td>\n",
       "    </tr>\n",
       "    <tr>\n",
       "      <th>28</th>\n",
       "      <td>FCA_gut8090117</td>\n",
       "      <td>FCA_gut8015058</td>\n",
       "      <td>F78</td>\n",
       "      <td>FCA_gut8015058</td>\n",
       "    </tr>\n",
       "    <tr>\n",
       "      <th>29</th>\n",
       "      <td>FCA_gut8090118</td>\n",
       "      <td>FCA_gut8015059</td>\n",
       "      <td>F78</td>\n",
       "      <td>FCA_gut8015059</td>\n",
       "    </tr>\n",
       "    <tr>\n",
       "      <th>30</th>\n",
       "      <td>FCA_gut8090119</td>\n",
       "      <td>FCA_gut8015060</td>\n",
       "      <td>F78</td>\n",
       "      <td>FCA_gut8015060</td>\n",
       "    </tr>\n",
       "    <tr>\n",
       "      <th>31</th>\n",
       "      <td>FCA_gut8090120</td>\n",
       "      <td>FCA_gut8015061</td>\n",
       "      <td>F78</td>\n",
       "      <td>FCA_gut8015061</td>\n",
       "    </tr>\n",
       "    <tr>\n",
       "      <th>32</th>\n",
       "      <td>Human_colon_16S8157863</td>\n",
       "      <td>Human_colon_16S8159182</td>\n",
       "      <td>F72</td>\n",
       "      <td>Human_colon_16S8159182</td>\n",
       "    </tr>\n",
       "    <tr>\n",
       "      <th>33</th>\n",
       "      <td>Human_colon_16S8157864</td>\n",
       "      <td>Human_colon_16S8159183</td>\n",
       "      <td>F72</td>\n",
       "      <td>Human_colon_16S8159183</td>\n",
       "    </tr>\n",
       "    <tr>\n",
       "      <th>34</th>\n",
       "      <td>Human_colon_16S8157865</td>\n",
       "      <td>Human_colon_16S8159184</td>\n",
       "      <td>F72</td>\n",
       "      <td>Human_colon_16S8159184</td>\n",
       "    </tr>\n",
       "    <tr>\n",
       "      <th>35</th>\n",
       "      <td>Human_colon_16S8157866</td>\n",
       "      <td>Human_colon_16S8159185</td>\n",
       "      <td>F72</td>\n",
       "      <td>Human_colon_16S8159185</td>\n",
       "    </tr>\n",
       "    <tr>\n",
       "      <th>36</th>\n",
       "      <td>Human_colon_16S8157867</td>\n",
       "      <td>Human_colon_16S8159186</td>\n",
       "      <td>F72</td>\n",
       "      <td>Human_colon_16S8159186</td>\n",
       "    </tr>\n",
       "    <tr>\n",
       "      <th>37</th>\n",
       "      <td>Human_colon_16S8157868</td>\n",
       "      <td>Human_colon_16S8159187</td>\n",
       "      <td>F73</td>\n",
       "      <td>Human_colon_16S8159187</td>\n",
       "    </tr>\n",
       "    <tr>\n",
       "      <th>38</th>\n",
       "      <td>Human_colon_16S8157869</td>\n",
       "      <td>Human_colon_16S8159188</td>\n",
       "      <td>F73</td>\n",
       "      <td>Human_colon_16S8159188</td>\n",
       "    </tr>\n",
       "    <tr>\n",
       "      <th>39</th>\n",
       "      <td>Human_colon_16S8157870</td>\n",
       "      <td>Human_colon_16S8159189</td>\n",
       "      <td>F73</td>\n",
       "      <td>Human_colon_16S8159189</td>\n",
       "    </tr>\n",
       "    <tr>\n",
       "      <th>40</th>\n",
       "      <td>Human_colon_16S8157871</td>\n",
       "      <td>Human_colon_16S8159190</td>\n",
       "      <td>F73</td>\n",
       "      <td>Human_colon_16S8159190</td>\n",
       "    </tr>\n",
       "  </tbody>\n",
       "</table>\n",
       "</div>"
      ],
      "text/plain": [
       "                               sample                  prefix individual  \\\n",
       "0                  WSSS_F_Imm10014564          FCAImmP7292029        F29   \n",
       "1                  WSSS_F_Imm10014565          FCAImmP7292031        F29   \n",
       "2                  WSSS_F_Imm10014566          FCAImmP7292030        F29   \n",
       "3                  WSSS_F_Imm10014567          FCAImmP7555860        F41   \n",
       "4                  WSSS_F_Imm10014568          FCAImmP7555856        F41   \n",
       "5                  WSSS_F_Imm10014569          FCAImmP7555862        F41   \n",
       "6                  WSSS_F_Imm10014570          FCAImmP7555859        F41   \n",
       "7                  WSSS_F_Imm10014571          FCAImmP7579230        F45   \n",
       "8                  WSSS_F_Imm10014572          FCAImmP7579226        F45   \n",
       "9                  WSSS_F_Imm10014573          FCAImmP7579228        F45   \n",
       "10                 WSSS_F_Imm10014574          FCAImmP7579232        F45   \n",
       "11  WSSS_F_Imm10014575-FCAImmP7812649          FCAImmP7803020        F50   \n",
       "12  WSSS_F_Imm10014576-FCAImmP7812650          FCAImmP7803021        F50   \n",
       "13                 WSSS_F_Imm10014577          FCAImmP7803016        F50   \n",
       "14                 WSSS_F_Imm10014578          FCAImmP7803017        F50   \n",
       "15                 WSSS_F_Imm10014579          FCAImmP7803037        F51   \n",
       "16                 WSSS_F_Imm10014580          FCAImmP7803038        F51   \n",
       "17                 WSSS_F_Imm10014581          FCAImmP7803034        F51   \n",
       "18                 WSSS_F_Imm10014582          FCAImmP7803035        F51   \n",
       "19                 WSSS_F_Imm10014583          FCAImmP7803028        F51   \n",
       "20                 WSSS_F_Imm10014584          FCAImmP7803029        F51   \n",
       "21                 WSSS_F_Imm10014585          FCAImmP7803030        F51   \n",
       "22                 WSSS_F_Imm10014586          FCAImmP7862084        F61   \n",
       "23                 WSSS_F_Imm10014587          FCAImmP7964506        F71   \n",
       "24                 WSSS_F_Imm10014588          FCAImmP7964507        F71   \n",
       "25                     FCAImmP7812651          FCAImmP7803024        F50   \n",
       "26                     FCAImmP7812652          FCAImmP7803025        F50   \n",
       "27                     FCA_gut8090116          FCA_gut8015057        F78   \n",
       "28                     FCA_gut8090117          FCA_gut8015058        F78   \n",
       "29                     FCA_gut8090118          FCA_gut8015059        F78   \n",
       "30                     FCA_gut8090119          FCA_gut8015060        F78   \n",
       "31                     FCA_gut8090120          FCA_gut8015061        F78   \n",
       "32             Human_colon_16S8157863  Human_colon_16S8159182        F72   \n",
       "33             Human_colon_16S8157864  Human_colon_16S8159183        F72   \n",
       "34             Human_colon_16S8157865  Human_colon_16S8159184        F72   \n",
       "35             Human_colon_16S8157866  Human_colon_16S8159185        F72   \n",
       "36             Human_colon_16S8157867  Human_colon_16S8159186        F72   \n",
       "37             Human_colon_16S8157868  Human_colon_16S8159187        F73   \n",
       "38             Human_colon_16S8157869  Human_colon_16S8159188        F73   \n",
       "39             Human_colon_16S8157870  Human_colon_16S8159189        F73   \n",
       "40             Human_colon_16S8157871  Human_colon_16S8159190        F73   \n",
       "\n",
       "                  GEX_file  \n",
       "0           FCAImmP7292029  \n",
       "1           FCAImmP7292031  \n",
       "2           FCAImmP7292030  \n",
       "3           FCAImmP7555860  \n",
       "4           FCAImmP7555856  \n",
       "5           FCAImmP7555862  \n",
       "6           FCAImmP7555859  \n",
       "7           FCAImmP7579230  \n",
       "8           FCAImmP7579226  \n",
       "9           FCAImmP7579228  \n",
       "10          FCAImmP7579232  \n",
       "11          FCAImmP7803020  \n",
       "12          FCAImmP7803021  \n",
       "13          FCAImmP7803016  \n",
       "14          FCAImmP7803017  \n",
       "15          FCAImmP7803037  \n",
       "16          FCAImmP7803038  \n",
       "17          FCAImmP7803034  \n",
       "18          FCAImmP7803035  \n",
       "19          FCAImmP7803028  \n",
       "20          FCAImmP7803029  \n",
       "21          FCAImmP7803030  \n",
       "22          FCAImmP7862084  \n",
       "23          FCAImmP7964506  \n",
       "24          FCAImmP7964507  \n",
       "25          FCAImmP7803024  \n",
       "26          FCAImmP7803025  \n",
       "27          FCA_gut8015057  \n",
       "28          FCA_gut8015058  \n",
       "29          FCA_gut8015059  \n",
       "30          FCA_gut8015060  \n",
       "31          FCA_gut8015061  \n",
       "32  Human_colon_16S8159182  \n",
       "33  Human_colon_16S8159183  \n",
       "34  Human_colon_16S8159184  \n",
       "35  Human_colon_16S8159185  \n",
       "36  Human_colon_16S8159186  \n",
       "37  Human_colon_16S8159187  \n",
       "38  Human_colon_16S8159188  \n",
       "39  Human_colon_16S8159189  \n",
       "40  Human_colon_16S8159190  "
      ]
     },
     "execution_count": 6,
     "metadata": {},
     "output_type": "execute_result"
    }
   ],
   "source": [
    "bcr_metadata"
   ]
  },
  {
   "cell_type": "code",
   "execution_count": 10,
   "id": "6adc6ebf",
   "metadata": {
    "scrolled": false
   },
   "outputs": [
    {
     "name": "stderr",
     "output_type": "stream",
     "text": [
      "\r",
      "0it [00:00, ?it/s]"
     ]
    },
    {
     "name": "stdout",
     "output_type": "stream",
     "text": [
      "G:\\My Drive\\QBIO7008\\R Drive/dandelion-remap/WSSS_F_Imm10014564/dandelion/tmp/all_contig_igblast_db-all.tsv\n",
      "G:\\My Drive\\QBIO7008\\R Drive/dandelion-remap/WSSS_F_Imm10014564/dandelion/all_contig_dandelion.tsv\n"
     ]
    },
    {
     "name": "stderr",
     "output_type": "stream",
     "text": [
      "\r",
      "1it [00:10, 10.91s/it]"
     ]
    },
    {
     "name": "stdout",
     "output_type": "stream",
     "text": [
      "G:\\My Drive\\QBIO7008\\R Drive/dandelion-remap/WSSS_F_Imm10014565/dandelion/tmp/all_contig_igblast_db-all.tsv\n",
      "G:\\My Drive\\QBIO7008\\R Drive/dandelion-remap/WSSS_F_Imm10014565/dandelion/all_contig_dandelion.tsv\n"
     ]
    },
    {
     "name": "stderr",
     "output_type": "stream",
     "text": [
      "C:\\Users\\chris\\anaconda\\lib\\site-packages\\dandelion\\utilities\\_utilities.py:584: DtypeWarning: Columns (117,118,119) have mixed types. Specify dtype option on import or set low_memory=False.\n",
      "2it [00:20,  9.96s/it]"
     ]
    },
    {
     "name": "stdout",
     "output_type": "stream",
     "text": [
      "G:\\My Drive\\QBIO7008\\R Drive/dandelion-remap/WSSS_F_Imm10014566/dandelion/tmp/all_contig_igblast_db-all.tsv\n",
      "G:\\My Drive\\QBIO7008\\R Drive/dandelion-remap/WSSS_F_Imm10014566/dandelion/all_contig_dandelion.tsv\n"
     ]
    },
    {
     "name": "stderr",
     "output_type": "stream",
     "text": [
      "\r",
      "3it [00:20,  5.76s/it]"
     ]
    },
    {
     "name": "stdout",
     "output_type": "stream",
     "text": [
      "G:\\My Drive\\QBIO7008\\R Drive/dandelion-remap/WSSS_F_Imm10014567/dandelion/tmp/all_contig_igblast_db-all.tsv\n",
      "G:\\My Drive\\QBIO7008\\R Drive/dandelion-remap/WSSS_F_Imm10014567/dandelion/all_contig_dandelion.tsv\n"
     ]
    },
    {
     "name": "stderr",
     "output_type": "stream",
     "text": [
      "\r",
      "4it [00:21,  3.59s/it]"
     ]
    },
    {
     "name": "stdout",
     "output_type": "stream",
     "text": [
      "G:\\My Drive\\QBIO7008\\R Drive/dandelion-remap/WSSS_F_Imm10014568/dandelion/tmp/all_contig_igblast_db-all.tsv\n",
      "G:\\My Drive\\QBIO7008\\R Drive/dandelion-remap/WSSS_F_Imm10014568/dandelion/all_contig_dandelion.tsv\n"
     ]
    },
    {
     "name": "stderr",
     "output_type": "stream",
     "text": [
      "\r",
      "5it [00:25,  3.82s/it]"
     ]
    },
    {
     "name": "stdout",
     "output_type": "stream",
     "text": [
      "G:\\My Drive\\QBIO7008\\R Drive/dandelion-remap/WSSS_F_Imm10014569/dandelion/tmp/all_contig_igblast_db-all.tsv\n",
      "G:\\My Drive\\QBIO7008\\R Drive/dandelion-remap/WSSS_F_Imm10014569/dandelion/all_contig_dandelion.tsv\n"
     ]
    },
    {
     "name": "stderr",
     "output_type": "stream",
     "text": [
      "\r",
      "6it [00:28,  3.68s/it]"
     ]
    },
    {
     "name": "stdout",
     "output_type": "stream",
     "text": [
      "G:\\My Drive\\QBIO7008\\R Drive/dandelion-remap/WSSS_F_Imm10014570/dandelion/tmp/all_contig_igblast_db-all.tsv\n",
      "G:\\My Drive\\QBIO7008\\R Drive/dandelion-remap/WSSS_F_Imm10014570/dandelion/all_contig_dandelion.tsv\n"
     ]
    },
    {
     "name": "stderr",
     "output_type": "stream",
     "text": [
      "\r",
      "7it [00:29,  2.69s/it]"
     ]
    },
    {
     "name": "stdout",
     "output_type": "stream",
     "text": [
      "G:\\My Drive\\QBIO7008\\R Drive/dandelion-remap/WSSS_F_Imm10014571/dandelion/tmp/all_contig_igblast_db-all.tsv\n",
      "G:\\My Drive\\QBIO7008\\R Drive/dandelion-remap/WSSS_F_Imm10014571/dandelion/all_contig_dandelion.tsv\n"
     ]
    },
    {
     "name": "stderr",
     "output_type": "stream",
     "text": [
      "\r",
      "8it [00:29,  1.93s/it]"
     ]
    },
    {
     "name": "stdout",
     "output_type": "stream",
     "text": [
      "G:\\My Drive\\QBIO7008\\R Drive/dandelion-remap/WSSS_F_Imm10014572/dandelion/tmp/all_contig_igblast_db-all.tsv\n",
      "G:\\My Drive\\QBIO7008\\R Drive/dandelion-remap/WSSS_F_Imm10014572/dandelion/all_contig_dandelion.tsv\n"
     ]
    },
    {
     "name": "stderr",
     "output_type": "stream",
     "text": [
      "\r",
      "9it [00:37,  3.86s/it]"
     ]
    },
    {
     "name": "stdout",
     "output_type": "stream",
     "text": [
      "G:\\My Drive\\QBIO7008\\R Drive/dandelion-remap/WSSS_F_Imm10014573/dandelion/tmp/all_contig_igblast_db-all.tsv\n",
      "G:\\My Drive\\QBIO7008\\R Drive/dandelion-remap/WSSS_F_Imm10014573/dandelion/all_contig_dandelion.tsv\n"
     ]
    },
    {
     "name": "stderr",
     "output_type": "stream",
     "text": [
      "\r",
      "10it [00:43,  4.41s/it]"
     ]
    },
    {
     "name": "stdout",
     "output_type": "stream",
     "text": [
      "G:\\My Drive\\QBIO7008\\R Drive/dandelion-remap/WSSS_F_Imm10014574/dandelion/tmp/all_contig_igblast_db-all.tsv\n",
      "G:\\My Drive\\QBIO7008\\R Drive/dandelion-remap/WSSS_F_Imm10014574/dandelion/all_contig_dandelion.tsv\n"
     ]
    },
    {
     "name": "stderr",
     "output_type": "stream",
     "text": [
      "\r",
      "11it [00:45,  3.64s/it]"
     ]
    },
    {
     "name": "stdout",
     "output_type": "stream",
     "text": [
      "G:\\My Drive\\QBIO7008\\R Drive/dandelion-remap/WSSS_F_Imm10014575-FCAImmP7812649/dandelion/tmp/all_contig_igblast_db-all.tsv\n",
      "G:\\My Drive\\QBIO7008\\R Drive/dandelion-remap/WSSS_F_Imm10014575-FCAImmP7812649/dandelion/all_contig_dandelion.tsv\n"
     ]
    },
    {
     "name": "stderr",
     "output_type": "stream",
     "text": [
      "\r",
      "12it [00:49,  3.73s/it]"
     ]
    },
    {
     "name": "stdout",
     "output_type": "stream",
     "text": [
      "G:\\My Drive\\QBIO7008\\R Drive/dandelion-remap/WSSS_F_Imm10014576-FCAImmP7812650/dandelion/tmp/all_contig_igblast_db-all.tsv\n",
      "G:\\My Drive\\QBIO7008\\R Drive/dandelion-remap/WSSS_F_Imm10014576-FCAImmP7812650/dandelion/all_contig_dandelion.tsv\n"
     ]
    },
    {
     "name": "stderr",
     "output_type": "stream",
     "text": [
      "\r",
      "13it [00:53,  3.76s/it]"
     ]
    },
    {
     "name": "stdout",
     "output_type": "stream",
     "text": [
      "G:\\My Drive\\QBIO7008\\R Drive/dandelion-remap/WSSS_F_Imm10014577/dandelion/tmp/all_contig_igblast_db-all.tsv\n",
      "G:\\My Drive\\QBIO7008\\R Drive/dandelion-remap/WSSS_F_Imm10014577/dandelion/all_contig_dandelion.tsv\n"
     ]
    },
    {
     "name": "stderr",
     "output_type": "stream",
     "text": [
      "\r",
      "14it [00:55,  3.17s/it]"
     ]
    },
    {
     "name": "stdout",
     "output_type": "stream",
     "text": [
      "G:\\My Drive\\QBIO7008\\R Drive/dandelion-remap/WSSS_F_Imm10014578/dandelion/tmp/all_contig_igblast_db-all.tsv\n",
      "G:\\My Drive\\QBIO7008\\R Drive/dandelion-remap/WSSS_F_Imm10014578/dandelion/all_contig_dandelion.tsv\n"
     ]
    },
    {
     "name": "stderr",
     "output_type": "stream",
     "text": [
      "\r",
      "15it [00:56,  2.76s/it]"
     ]
    },
    {
     "name": "stdout",
     "output_type": "stream",
     "text": [
      "G:\\My Drive\\QBIO7008\\R Drive/dandelion-remap/WSSS_F_Imm10014579/dandelion/tmp/all_contig_igblast_db-all.tsv\n",
      "G:\\My Drive\\QBIO7008\\R Drive/dandelion-remap/WSSS_F_Imm10014579/dandelion/all_contig_dandelion.tsv\n"
     ]
    },
    {
     "name": "stderr",
     "output_type": "stream",
     "text": [
      "\r",
      "16it [01:05,  4.39s/it]"
     ]
    },
    {
     "name": "stdout",
     "output_type": "stream",
     "text": [
      "G:\\My Drive\\QBIO7008\\R Drive/dandelion-remap/WSSS_F_Imm10014580/dandelion/tmp/all_contig_igblast_db-all.tsv\n",
      "G:\\My Drive\\QBIO7008\\R Drive/dandelion-remap/WSSS_F_Imm10014580/dandelion/all_contig_dandelion.tsv\n"
     ]
    },
    {
     "name": "stderr",
     "output_type": "stream",
     "text": [
      "C:\\Users\\chris\\anaconda\\lib\\site-packages\\dandelion\\utilities\\_utilities.py:584: DtypeWarning: Columns (53,73,78,89,90,91,117,118,119) have mixed types. Specify dtype option on import or set low_memory=False.\n",
      "17it [01:12,  5.46s/it]"
     ]
    },
    {
     "name": "stdout",
     "output_type": "stream",
     "text": [
      "G:\\My Drive\\QBIO7008\\R Drive/dandelion-remap/WSSS_F_Imm10014581/dandelion/tmp/all_contig_igblast_db-all.tsv\n",
      "G:\\My Drive\\QBIO7008\\R Drive/dandelion-remap/WSSS_F_Imm10014581/dandelion/all_contig_dandelion.tsv\n"
     ]
    },
    {
     "name": "stderr",
     "output_type": "stream",
     "text": [
      "\r",
      "18it [01:14,  4.25s/it]"
     ]
    },
    {
     "name": "stdout",
     "output_type": "stream",
     "text": [
      "G:\\My Drive\\QBIO7008\\R Drive/dandelion-remap/WSSS_F_Imm10014582/dandelion/tmp/all_contig_igblast_db-all.tsv\n",
      "G:\\My Drive\\QBIO7008\\R Drive/dandelion-remap/WSSS_F_Imm10014582/dandelion/all_contig_dandelion.tsv\n"
     ]
    },
    {
     "name": "stderr",
     "output_type": "stream",
     "text": [
      "\r",
      "19it [01:15,  3.33s/it]"
     ]
    },
    {
     "name": "stdout",
     "output_type": "stream",
     "text": [
      "G:\\My Drive\\QBIO7008\\R Drive/dandelion-remap/WSSS_F_Imm10014583/dandelion/tmp/all_contig_igblast_db-all.tsv\n",
      "G:\\My Drive\\QBIO7008\\R Drive/dandelion-remap/WSSS_F_Imm10014583/dandelion/all_contig_dandelion.tsv\n"
     ]
    },
    {
     "name": "stderr",
     "output_type": "stream",
     "text": [
      "\r",
      "20it [01:18,  3.34s/it]"
     ]
    },
    {
     "name": "stdout",
     "output_type": "stream",
     "text": [
      "G:\\My Drive\\QBIO7008\\R Drive/dandelion-remap/WSSS_F_Imm10014584/dandelion/tmp/all_contig_igblast_db-all.tsv\n",
      "G:\\My Drive\\QBIO7008\\R Drive/dandelion-remap/WSSS_F_Imm10014584/dandelion/all_contig_dandelion.tsv\n"
     ]
    },
    {
     "name": "stderr",
     "output_type": "stream",
     "text": [
      "\r",
      "21it [01:22,  3.25s/it]"
     ]
    },
    {
     "name": "stdout",
     "output_type": "stream",
     "text": [
      "G:\\My Drive\\QBIO7008\\R Drive/dandelion-remap/WSSS_F_Imm10014585/dandelion/tmp/all_contig_igblast_db-all.tsv\n",
      "G:\\My Drive\\QBIO7008\\R Drive/dandelion-remap/WSSS_F_Imm10014585/dandelion/all_contig_dandelion.tsv\n"
     ]
    },
    {
     "name": "stderr",
     "output_type": "stream",
     "text": [
      "\r",
      "22it [01:24,  3.10s/it]"
     ]
    },
    {
     "name": "stdout",
     "output_type": "stream",
     "text": [
      "G:\\My Drive\\QBIO7008\\R Drive/dandelion-remap/WSSS_F_Imm10014586/dandelion/tmp/all_contig_igblast_db-all.tsv\n",
      "G:\\My Drive\\QBIO7008\\R Drive/dandelion-remap/WSSS_F_Imm10014586/dandelion/all_contig_dandelion.tsv\n"
     ]
    },
    {
     "name": "stderr",
     "output_type": "stream",
     "text": [
      "\r",
      "23it [01:25,  2.26s/it]"
     ]
    },
    {
     "name": "stdout",
     "output_type": "stream",
     "text": [
      "G:\\My Drive\\QBIO7008\\R Drive/dandelion-remap/WSSS_F_Imm10014587/dandelion/tmp/all_contig_igblast_db-all.tsv\n",
      "G:\\My Drive\\QBIO7008\\R Drive/dandelion-remap/WSSS_F_Imm10014587/dandelion/all_contig_dandelion.tsv\n"
     ]
    },
    {
     "name": "stderr",
     "output_type": "stream",
     "text": [
      "\r",
      "24it [01:26,  1.93s/it]"
     ]
    },
    {
     "name": "stdout",
     "output_type": "stream",
     "text": [
      "G:\\My Drive\\QBIO7008\\R Drive/dandelion-remap/WSSS_F_Imm10014588/dandelion/tmp/all_contig_igblast_db-all.tsv\n",
      "G:\\My Drive\\QBIO7008\\R Drive/dandelion-remap/WSSS_F_Imm10014588/dandelion/all_contig_dandelion.tsv\n"
     ]
    },
    {
     "name": "stderr",
     "output_type": "stream",
     "text": [
      "\r",
      "25it [01:27,  1.71s/it]"
     ]
    },
    {
     "name": "stdout",
     "output_type": "stream",
     "text": [
      "G:\\My Drive\\QBIO7008\\R Drive/dandelion-remap/FCAImmP7812651/dandelion/tmp/all_contig_igblast_db-all.tsv\n",
      "G:\\My Drive\\QBIO7008\\R Drive/dandelion-remap/FCAImmP7812651/dandelion/all_contig_dandelion.tsv\n"
     ]
    },
    {
     "name": "stderr",
     "output_type": "stream",
     "text": [
      "\r",
      "26it [01:27,  1.33s/it]"
     ]
    },
    {
     "name": "stdout",
     "output_type": "stream",
     "text": [
      "G:\\My Drive\\QBIO7008\\R Drive/dandelion-remap/FCAImmP7812652/dandelion/tmp/all_contig_igblast_db-all.tsv\n",
      "G:\\My Drive\\QBIO7008\\R Drive/dandelion-remap/FCAImmP7812652/dandelion/all_contig_dandelion.tsv\n"
     ]
    },
    {
     "name": "stderr",
     "output_type": "stream",
     "text": [
      "\r",
      "27it [01:28,  1.15s/it]"
     ]
    },
    {
     "name": "stdout",
     "output_type": "stream",
     "text": [
      "G:\\My Drive\\QBIO7008\\R Drive/dandelion-remap/FCA_gut8090116/dandelion/tmp/all_contig_igblast_db-all.tsv\n",
      "G:\\My Drive\\QBIO7008\\R Drive/dandelion-remap/FCA_gut8090116/dandelion/all_contig_dandelion.tsv\n",
      "G:\\My Drive\\QBIO7008\\R Drive/dandelion-remap/FCA_gut8090117/dandelion/tmp/all_contig_igblast_db-all.tsv\n",
      "G:\\My Drive\\QBIO7008\\R Drive/dandelion-remap/FCA_gut8090117/dandelion/all_contig_dandelion.tsv\n"
     ]
    },
    {
     "name": "stderr",
     "output_type": "stream",
     "text": [
      "\r",
      "29it [01:28,  1.45it/s]"
     ]
    },
    {
     "name": "stdout",
     "output_type": "stream",
     "text": [
      "G:\\My Drive\\QBIO7008\\R Drive/dandelion-remap/FCA_gut8090118/dandelion/tmp/all_contig_igblast_db-all.tsv\n",
      "G:\\My Drive\\QBIO7008\\R Drive/dandelion-remap/FCA_gut8090118/dandelion/all_contig_dandelion.tsv\n",
      "G:\\My Drive\\QBIO7008\\R Drive/dandelion-remap/FCA_gut8090119/dandelion/tmp/all_contig_igblast_db-all.tsv\n",
      "G:\\My Drive\\QBIO7008\\R Drive/dandelion-remap/FCA_gut8090119/dandelion/all_contig_dandelion.tsv\n"
     ]
    },
    {
     "name": "stderr",
     "output_type": "stream",
     "text": [
      "\r",
      "31it [01:29,  2.09it/s]"
     ]
    },
    {
     "name": "stdout",
     "output_type": "stream",
     "text": [
      "G:\\My Drive\\QBIO7008\\R Drive/dandelion-remap/FCA_gut8090120/dandelion/tmp/all_contig_igblast_db-all.tsv\n",
      "G:\\My Drive\\QBIO7008\\R Drive/dandelion-remap/FCA_gut8090120/dandelion/all_contig_dandelion.tsv\n"
     ]
    },
    {
     "name": "stderr",
     "output_type": "stream",
     "text": [
      "\r",
      "32it [01:31,  1.10it/s]"
     ]
    },
    {
     "name": "stdout",
     "output_type": "stream",
     "text": [
      "G:\\My Drive\\QBIO7008\\R Drive/dandelion-remap/Human_colon_16S8157863/dandelion/tmp/all_contig_igblast_db-all.tsv\n",
      "G:\\My Drive\\QBIO7008\\R Drive/dandelion-remap/Human_colon_16S8157863/dandelion/all_contig_dandelion.tsv\n"
     ]
    },
    {
     "name": "stderr",
     "output_type": "stream",
     "text": [
      "\r",
      "33it [01:32,  1.23it/s]"
     ]
    },
    {
     "name": "stdout",
     "output_type": "stream",
     "text": [
      "G:\\My Drive\\QBIO7008\\R Drive/dandelion-remap/Human_colon_16S8157864/dandelion/tmp/all_contig_igblast_db-all.tsv\n",
      "G:\\My Drive\\QBIO7008\\R Drive/dandelion-remap/Human_colon_16S8157864/dandelion/all_contig_dandelion.tsv\n"
     ]
    },
    {
     "name": "stderr",
     "output_type": "stream",
     "text": [
      "\r",
      "34it [01:32,  1.45it/s]"
     ]
    },
    {
     "name": "stdout",
     "output_type": "stream",
     "text": [
      "G:\\My Drive\\QBIO7008\\R Drive/dandelion-remap/Human_colon_16S8157865/dandelion/tmp/all_contig_igblast_db-all.tsv\n",
      "G:\\My Drive\\QBIO7008\\R Drive/dandelion-remap/Human_colon_16S8157865/dandelion/all_contig_dandelion.tsv\n"
     ]
    },
    {
     "name": "stderr",
     "output_type": "stream",
     "text": [
      "36it [01:33,  2.05it/s]"
     ]
    },
    {
     "name": "stdout",
     "output_type": "stream",
     "text": [
      "G:\\My Drive\\QBIO7008\\R Drive/dandelion-remap/Human_colon_16S8157866/dandelion/tmp/all_contig_igblast_db-all.tsv\n",
      "G:\\My Drive\\QBIO7008\\R Drive/dandelion-remap/Human_colon_16S8157866/dandelion/all_contig_dandelion.tsv\n",
      "G:\\My Drive\\QBIO7008\\R Drive/dandelion-remap/Human_colon_16S8157867/dandelion/tmp/all_contig_igblast_db-all.tsv\n",
      "G:\\My Drive\\QBIO7008\\R Drive/dandelion-remap/Human_colon_16S8157867/dandelion/all_contig_dandelion.tsv\n"
     ]
    },
    {
     "name": "stderr",
     "output_type": "stream",
     "text": [
      "\r",
      "37it [01:34,  1.60it/s]"
     ]
    },
    {
     "name": "stdout",
     "output_type": "stream",
     "text": [
      "G:\\My Drive\\QBIO7008\\R Drive/dandelion-remap/Human_colon_16S8157868/dandelion/tmp/all_contig_igblast_db-all.tsv\n",
      "G:\\My Drive\\QBIO7008\\R Drive/dandelion-remap/Human_colon_16S8157868/dandelion/all_contig_dandelion.tsv\n"
     ]
    },
    {
     "name": "stderr",
     "output_type": "stream",
     "text": [
      "\r",
      "38it [01:34,  1.84it/s]"
     ]
    },
    {
     "name": "stdout",
     "output_type": "stream",
     "text": [
      "G:\\My Drive\\QBIO7008\\R Drive/dandelion-remap/Human_colon_16S8157869/dandelion/tmp/all_contig_igblast_db-all.tsv\n",
      "G:\\My Drive\\QBIO7008\\R Drive/dandelion-remap/Human_colon_16S8157869/dandelion/all_contig_dandelion.tsv\n"
     ]
    },
    {
     "name": "stderr",
     "output_type": "stream",
     "text": [
      "\r",
      "39it [01:34,  2.00it/s]"
     ]
    },
    {
     "name": "stdout",
     "output_type": "stream",
     "text": [
      "G:\\My Drive\\QBIO7008\\R Drive/dandelion-remap/Human_colon_16S8157870/dandelion/tmp/all_contig_igblast_db-all.tsv\n",
      "G:\\My Drive\\QBIO7008\\R Drive/dandelion-remap/Human_colon_16S8157870/dandelion/all_contig_dandelion.tsv\n"
     ]
    },
    {
     "name": "stderr",
     "output_type": "stream",
     "text": [
      "\r",
      "40it [01:35,  2.26it/s]"
     ]
    },
    {
     "name": "stdout",
     "output_type": "stream",
     "text": [
      "G:\\My Drive\\QBIO7008\\R Drive/dandelion-remap/Human_colon_16S8157871/dandelion/tmp/all_contig_igblast_db-all.tsv\n",
      "G:\\My Drive\\QBIO7008\\R Drive/dandelion-remap/Human_colon_16S8157871/dandelion/all_contig_dandelion.tsv\n"
     ]
    },
    {
     "name": "stderr",
     "output_type": "stream",
     "text": [
      "41it [01:35,  2.33s/it]\n"
     ]
    },
    {
     "data": {
      "text/plain": [
       "39"
      ]
     },
     "execution_count": 10,
     "metadata": {},
     "output_type": "execute_result"
    }
   ],
   "source": [
    "bcr = {}\n",
    "for x, y in tqdm(zip(bcr_metadata[\"sample\"], bcr_metadata[\"GEX_file\"])):\n",
    "    v_call_g, g_al, g_al_d = {}, {}, {}\n",
    "    file1 = vdj_loc + \"/dandelion-remap/\" + x + \"/dandelion/tmp/all_contig_igblast_db-all.tsv\"\n",
    "    file2 = vdj_loc + \"/dandelion-remap/\" + x + \"/dandelion/all_contig_dandelion.tsv\"\n",
    "    print(file1)\n",
    "    print(file2)\n",
    "    try:\n",
    "        tmp = ddl.load_data(file1)\n",
    "        tmp2 = pd.read_csv(file2, sep=\"\\t\")\n",
    "        # update v_call_genotyped and associated columns with data from post-dandelion\n",
    "        tmp['cell_id'] = [z[:-2] for z in tmp['cell_id']]\n",
    "        tmp = tmp[tmp[\"cell_id\"].isin(adata.obs_names)].copy()\n",
    "        if \"duplicate_count\" not in tmp:\n",
    "            tmp[\"duplicate_count\"] = tmp[\"umi_count\"]\n",
    "            tmp.drop(\"umi_count\", axis=1, inplace=True)\n",
    "        if tmp.shape[0] != 0:\n",
    "            for _, r in tmp2.iterrows():\n",
    "                seqid = r.sequence_id\n",
    "                v_call_g[seqid] = r.v_call_genotyped\n",
    "            for s in tmp.sequence_id:\n",
    "                if s not in v_call_g.keys():\n",
    "                    v_call_g[s] = tmp.loc[s, \"v_call\"]\n",
    "            tmp[\"v_call\"] = [v_call_g[si] for si in tmp.sequence_id]\n",
    "            bcr[x] = ddl.Dandelion(tmp)\n",
    "    except:\n",
    "        print(\"exception\", x)\n",
    "        pass\n",
    "len(bcr)"
   ]
  },
  {
   "cell_type": "code",
   "execution_count": 11,
   "id": "f37b5790",
   "metadata": {},
   "outputs": [
    {
     "data": {
      "text/plain": [
       "Dandelion class object with n_obs = 24185 and n_contigs = 70074\n",
       "    data: 'sequence_id', 'sequence', 'rev_comp', 'productive', 'v_call', 'd_call', 'j_call', 'sequence_alignment', 'germline_alignment', 'junction', 'junction_aa', 'v_cigar', 'd_cigar', 'j_cigar', 'stop_codon', 'vj_in_frame', 'locus', 'c_call', 'junction_length', 'np1_length', 'np2_length', 'v_sequence_start', 'v_sequence_end', 'v_germline_start', 'v_germline_end', 'd_sequence_start', 'd_sequence_end', 'd_germline_start', 'd_germline_end', 'j_sequence_start', 'j_sequence_end', 'j_germline_start', 'j_germline_end', 'v_score', 'v_identity', 'v_support', 'd_score', 'd_identity', 'd_support', 'j_score', 'j_identity', 'j_support', 'fwr1', 'fwr2', 'fwr3', 'fwr4', 'cdr1', 'cdr2', 'cdr3', 'cell_id', 'consensus_count', 'duplicate_count', 'v_call_10x', 'd_call_10x', 'j_call_10x', 'junction_10x', 'junction_10x_aa', 'j_support_igblastn', 'j_score_igblastn', 'j_call_igblastn', 'j_call_blastn', 'j_identity_blastn', 'j_alignment_length_blastn', 'j_number_of_mismatches_blastn', 'j_number_of_gap_openings_blastn', 'j_sequence_start_blastn', 'j_sequence_end_blastn', 'j_germline_start_blastn', 'j_germline_end_blastn', 'j_support_blastn', 'j_score_blastn', 'j_sequence_alignment_blastn', 'j_germline_alignment_blastn', 'cell_id_blastn', 'j_source', 'd_support_igblastn', 'd_score_igblastn', 'd_call_igblastn', 'd_call_blastn', 'd_identity_blastn', 'd_alignment_length_blastn', 'd_number_of_mismatches_blastn', 'd_number_of_gap_openings_blastn', 'd_sequence_start_blastn', 'd_sequence_end_blastn', 'd_germline_start_blastn', 'd_germline_end_blastn', 'd_support_blastn', 'd_score_blastn', 'd_sequence_alignment_blastn', 'd_germline_alignment_blastn', 'd_source', 'v_call_genotyped', 'germline_alignment_d_mask', 'sample_id', 'c_sequence_alignment', 'c_germline_alignment', 'c_sequence_start', 'c_sequence_end', 'c_score', 'c_identity', 'c_call_10x', 'junction_aa_length', 'fwr1_aa', 'fwr2_aa', 'fwr3_aa', 'fwr4_aa', 'cdr1_aa', 'cdr2_aa', 'cdr3_aa', 'sequence_alignment_aa', 'v_sequence_alignment_aa', 'd_sequence_alignment_aa', 'j_sequence_alignment_aa', 'complete_vdj', 'j_call_multimappers', 'j_call_multiplicity', 'j_call_sequence_start_multimappers', 'j_call_sequence_end_multimappers', 'j_call_support_multimappers', 'rearrangement_status'\n",
       "    metadata: 'sample_id', 'locus_VDJ', 'locus_VJ', 'productive_VDJ', 'productive_VJ', 'v_call_genotyped_VDJ', 'd_call_VDJ', 'j_call_VDJ', 'v_call_genotyped_VJ', 'j_call_VJ', 'c_call_VDJ', 'c_call_VJ', 'junction_VDJ', 'junction_VJ', 'junction_aa_VDJ', 'junction_aa_VJ', 'v_call_genotyped_B_VDJ', 'd_call_B_VDJ', 'j_call_B_VDJ', 'v_call_genotyped_B_VJ', 'j_call_B_VJ', 'c_call_B_VDJ', 'c_call_B_VJ', 'productive_B_VDJ', 'productive_B_VJ', 'duplicate_count_B_VDJ', 'duplicate_count_B_VJ', 'v_call_VDJ_main', 'v_call_VJ_main', 'd_call_VDJ_main', 'j_call_VDJ_main', 'j_call_VJ_main', 'c_call_VDJ_main', 'c_call_VJ_main', 'v_call_B_VDJ_main', 'd_call_B_VDJ_main', 'j_call_B_VDJ_main', 'v_call_B_VJ_main', 'j_call_B_VJ_main', 'isotype', 'isotype_status', 'locus_status', 'chain_status', 'rearrangement_status_VDJ', 'rearrangement_status_VJ'"
      ]
     },
     "execution_count": 11,
     "metadata": {},
     "output_type": "execute_result"
    }
   ],
   "source": [
    "# concatenate\n",
    "bcr = ddl.concat([bcr[x] for x in bcr])\n",
    "bcr"
   ]
  },
  {
   "cell_type": "markdown",
   "id": "4b25413c",
   "metadata": {},
   "source": [
    "Checks whether a contig VDJ or VJ rearragement is ambigious or not."
   ]
  },
  {
   "cell_type": "code",
   "execution_count": 12,
   "id": "90442360",
   "metadata": {},
   "outputs": [
    {
     "name": "stderr",
     "output_type": "stream",
     "text": [
      "Preparing data: 70058it [00:55, 1260.52it/s]\n",
      "Scanning for poor quality/ambiguous contigs: 100%|██████████| 24185/24185 [05:50<00:00, 68.94it/s]                     \n"
     ]
    },
    {
     "data": {
      "text/plain": [
       "Dandelion class object with n_obs = 24140 and n_contigs = 70058\n",
       "    data: 'sequence_id', 'sequence', 'rev_comp', 'productive', 'v_call', 'd_call', 'j_call', 'sequence_alignment', 'germline_alignment', 'junction', 'junction_aa', 'v_cigar', 'd_cigar', 'j_cigar', 'stop_codon', 'vj_in_frame', 'locus', 'c_call', 'junction_length', 'np1_length', 'np2_length', 'v_sequence_start', 'v_sequence_end', 'v_germline_start', 'v_germline_end', 'd_sequence_start', 'd_sequence_end', 'd_germline_start', 'd_germline_end', 'j_sequence_start', 'j_sequence_end', 'j_germline_start', 'j_germline_end', 'v_score', 'v_identity', 'v_support', 'd_score', 'd_identity', 'd_support', 'j_score', 'j_identity', 'j_support', 'fwr1', 'fwr2', 'fwr3', 'fwr4', 'cdr1', 'cdr2', 'cdr3', 'cell_id', 'consensus_count', 'duplicate_count', 'v_call_10x', 'd_call_10x', 'j_call_10x', 'junction_10x', 'junction_10x_aa', 'j_support_igblastn', 'j_score_igblastn', 'j_call_igblastn', 'j_call_blastn', 'j_identity_blastn', 'j_alignment_length_blastn', 'j_number_of_mismatches_blastn', 'j_number_of_gap_openings_blastn', 'j_sequence_start_blastn', 'j_sequence_end_blastn', 'j_germline_start_blastn', 'j_germline_end_blastn', 'j_support_blastn', 'j_score_blastn', 'j_sequence_alignment_blastn', 'j_germline_alignment_blastn', 'cell_id_blastn', 'j_source', 'd_support_igblastn', 'd_score_igblastn', 'd_call_igblastn', 'd_call_blastn', 'd_identity_blastn', 'd_alignment_length_blastn', 'd_number_of_mismatches_blastn', 'd_number_of_gap_openings_blastn', 'd_sequence_start_blastn', 'd_sequence_end_blastn', 'd_germline_start_blastn', 'd_germline_end_blastn', 'd_support_blastn', 'd_score_blastn', 'd_sequence_alignment_blastn', 'd_germline_alignment_blastn', 'd_source', 'v_call_genotyped', 'germline_alignment_d_mask', 'sample_id', 'c_sequence_alignment', 'c_germline_alignment', 'c_sequence_start', 'c_sequence_end', 'c_score', 'c_identity', 'c_call_10x', 'junction_aa_length', 'fwr1_aa', 'fwr2_aa', 'fwr3_aa', 'fwr4_aa', 'cdr1_aa', 'cdr2_aa', 'cdr3_aa', 'sequence_alignment_aa', 'v_sequence_alignment_aa', 'd_sequence_alignment_aa', 'j_sequence_alignment_aa', 'complete_vdj', 'j_call_multimappers', 'j_call_multiplicity', 'j_call_sequence_start_multimappers', 'j_call_sequence_end_multimappers', 'j_call_support_multimappers', 'rearrangement_status', 'ambiguous'\n",
       "    metadata: 'sample_id', 'locus_VDJ', 'locus_VJ', 'productive_VDJ', 'productive_VJ', 'v_call_genotyped_VDJ', 'd_call_VDJ', 'j_call_VDJ', 'v_call_genotyped_VJ', 'j_call_VJ', 'c_call_VDJ', 'c_call_VJ', 'junction_VDJ', 'junction_VJ', 'junction_aa_VDJ', 'junction_aa_VJ', 'v_call_genotyped_B_VDJ', 'd_call_B_VDJ', 'j_call_B_VDJ', 'v_call_genotyped_B_VJ', 'j_call_B_VJ', 'c_call_B_VDJ', 'c_call_B_VJ', 'productive_B_VDJ', 'productive_B_VJ', 'duplicate_count_B_VDJ', 'duplicate_count_B_VJ', 'v_call_VDJ_main', 'v_call_VJ_main', 'd_call_VDJ_main', 'j_call_VDJ_main', 'j_call_VJ_main', 'c_call_VDJ_main', 'c_call_VJ_main', 'v_call_B_VDJ_main', 'd_call_B_VDJ_main', 'j_call_B_VDJ_main', 'v_call_B_VJ_main', 'j_call_B_VJ_main', 'isotype', 'isotype_status', 'locus_status', 'chain_status', 'rearrangement_status_VDJ', 'rearrangement_status_VJ'"
      ]
     },
     "execution_count": 12,
     "metadata": {},
     "output_type": "execute_result"
    }
   ],
   "source": [
    "bcr_checked, bcr_adata = ddl.pp.check_contigs(bcr, adata, productive_only = False, library_type = 'ig')\n",
    "bcr_checked"
   ]
  },
  {
   "cell_type": "markdown",
   "id": "12112008",
   "metadata": {},
   "source": [
    "### Save"
   ]
  },
  {
   "cell_type": "markdown",
   "id": "1d6a59b0",
   "metadata": {},
   "source": [
    "h5ad is used for an adata file format for single cell data."
   ]
  },
  {
   "cell_type": "code",
   "execution_count": null,
   "id": "edf86f9c",
   "metadata": {},
   "outputs": [],
   "source": [
    "bcr_adata.write_h5ad('write/BCR_contigs.h5ad', compression = 'gzip') # the BCR contigs object"
   ]
  },
  {
   "cell_type": "markdown",
   "id": "bb438785",
   "metadata": {},
   "source": [
    "Dandelion Object is a class that holds a metadata slot and a data slot."
   ]
  },
  {
   "cell_type": "code",
   "execution_count": 1,
   "id": "111794d6",
   "metadata": {},
   "outputs": [
    {
     "ename": "NameError",
     "evalue": "name 'bcr_checked' is not defined",
     "output_type": "error",
     "traceback": [
      "\u001b[1;31m---------------------------------------------------------------------------\u001b[0m",
      "\u001b[1;31mNameError\u001b[0m                                 Traceback (most recent call last)",
      "Cell \u001b[1;32mIn[1], line 1\u001b[0m\n\u001b[1;32m----> 1\u001b[0m \u001b[43mbcr_checked\u001b[49m\u001b[38;5;241m.\u001b[39mwrite_h5ddl(\u001b[38;5;124m'\u001b[39m\u001b[38;5;124mwrite/BCR_contigs.h5ddl\u001b[39m\u001b[38;5;124m'\u001b[39m, compression \u001b[38;5;241m=\u001b[39m \u001b[38;5;124m'\u001b[39m\u001b[38;5;124mblosc:lz4\u001b[39m\u001b[38;5;124m'\u001b[39m)\n",
      "\u001b[1;31mNameError\u001b[0m: name 'bcr_checked' is not defined"
     ]
    }
   ],
   "source": [
    "bcr_checked.write_h5ddl('write/BCR_contigs.h5ddl', compression = 'blosc:lz4')\n"
   ]
  },
  {
   "cell_type": "code",
   "execution_count": null,
   "id": "056b1e11",
   "metadata": {},
   "outputs": [],
   "source": []
  }
 ],
 "metadata": {
  "kernelspec": {
   "display_name": "Python 3 (ipykernel)",
   "language": "python",
   "name": "python3"
  },
  "language_info": {
   "codemirror_mode": {
    "name": "ipython",
    "version": 3
   },
   "file_extension": ".py",
   "mimetype": "text/x-python",
   "name": "python",
   "nbconvert_exporter": "python",
   "pygments_lexer": "ipython3",
   "version": "3.10.9"
  }
 },
 "nbformat": 4,
 "nbformat_minor": 5
}
